{
  "nbformat": 4,
  "nbformat_minor": 0,
  "metadata": {
    "colab": {
      "provenance": [],
      "authorship_tag": "ABX9TyMAxw0vIkomdXSWiom3X+EQ",
      "include_colab_link": true
    },
    "kernelspec": {
      "name": "python3",
      "display_name": "Python 3"
    },
    "language_info": {
      "name": "python"
    }
  },
  "cells": [
    {
      "cell_type": "markdown",
      "metadata": {
        "id": "view-in-github",
        "colab_type": "text"
      },
      "source": [
        "<a href=\"https://colab.research.google.com/github/f2fang/f2fang/blob/main/FF_Python.ipynb\" target=\"_parent\"><img src=\"https://colab.research.google.com/assets/colab-badge.svg\" alt=\"Open In Colab\"/></a>"
      ]
    },
    {
      "cell_type": "markdown",
      "source": [
        "### Almost increasing sequence\n",
        "\n",
        "Given a sequence of integers as an array, determine whether it is possible to obtain a strictly increasing sequence by removing no more than one element from the array.\n",
        "\n",
        "Note: sequence a0, a1, ..., an is considered to be a strictly increasing if a0 < a1 < ... < an. Sequence containing only one element is also considered to be strictly increasing.\n",
        "\n",
        "#### Solving idea\n",
        "\n",
        "3 items:\n",
        "Prev Last Current\n",
        "\n",
        "1 boolean Flag: Dropped, only can drop for 1 time!\n",
        "\n",
        "\n",
        "```\n",
        "for loop to get Current:\n",
        "  if Current <= Last, find the unincreasing one\n",
        "\n",
        "    if Dropped is True, already dropped:\n",
        "      return False\n",
        "    else\n",
        "      set dropped = True\n",
        "    if Current <= Prev, virtually dropped the Last, but still samller than Prev.\n",
        "      set Prev = Last, will return False next step;\n",
        "    else:\n",
        "      prev, last = last, current\n",
        "  else:\n",
        "    prev, last = last, current\n",
        "return True\n",
        "```\n",
        "\n"
      ],
      "metadata": {
        "id": "UPbs0s5GmXRM"
      }
    },
    {
      "cell_type": "code",
      "execution_count": 1,
      "metadata": {
        "id": "kqa3lvEvmL5e"
      },
      "outputs": [],
      "source": [
        "\n",
        "def solution(sequence):\n",
        "    dropped = False\n",
        "    prev = last = min(sequence) -1\n",
        "    for item in sequence:\n",
        "        if item <= last:\n",
        "            if dropped == True:\n",
        "                return False\n",
        "            else:\n",
        "                dropped = True\n",
        "            if item <= prev:\n",
        "                prev =  last\n",
        "            else:\n",
        "                prev, last = last, item\n",
        "        else:\n",
        "            prev, last = last, item\n",
        "    return True\n",
        ""
      ]
    },
    {
      "cell_type": "markdown",
      "source": [
        "### Matrix Elements Sum\n",
        "\n",
        "After becoming famous, the CodeBots decided to move into a new building together. Each of the rooms has a different cost, and some of them are free, but there's a rumour that all the free rooms are haunted! Since the CodeBots are quite superstitious, they refuse to stay in any of the free rooms, or any of the rooms below any of the free rooms.\n",
        "\n",
        "Given matrix, a rectangular matrix of integers, where each value represents the cost of the room, your task is to return the total sum of all rooms that are suitable for the CodeBots (ie: add up all the values that don't appear below a 0)."
      ],
      "metadata": {
        "id": "HR97IVCiLw5u"
      }
    },
    {
      "cell_type": "markdown",
      "source": [
        "#### Method 1\n",
        "\n",
        "If col is 0, then set the col into haunt_cloums set.\n",
        "If elements in haunt_cloums , dont count it\n",
        "\n",
        "\n",
        "```\n",
        "for rows in matrix\n",
        "  for cols, cost in rows\n",
        "      if cols == 0\n",
        "        haunt_cloums.add(cols)\n",
        "      else if cols not in haunt_cloums\n",
        "        count(cost)\n",
        "```\n",
        "\n"
      ],
      "metadata": {
        "id": "LCVwXr76Nfj3"
      }
    },
    {
      "cell_type": "code",
      "source": [
        "def solution(matrix):\n",
        "    result = 0\n",
        "    haunted_colum = set()\n",
        "    for row in matrix:\n",
        "        for col, cost in enumerate(row):\n",
        "            if cost == 0:\n",
        "                haunted_colum.add(col)\n",
        "            elif col not in haunted_colum:\n",
        "                result += cost\n",
        "    return result"
      ],
      "metadata": {
        "id": "qtUqniMzOHHX"
      },
      "execution_count": 3,
      "outputs": []
    },
    {
      "cell_type": "markdown",
      "source": [
        "Method 2\n",
        "Loop columns first, if met 0, break the rows in this column!\n",
        "\n",
        "\n",
        "\n",
        "```\n",
        "For c loop colms\n",
        "  For r loop rows\n",
        "    if( matrix[r][c] != 0)\n",
        "      count(matrix[r][c])\n",
        "    else\n",
        "      break;\n",
        "```\n",
        "\n"
      ],
      "metadata": {
        "id": "qPFAWgkYORET"
      }
    },
    {
      "cell_type": "code",
      "source": [
        "def solution(matrix):\n",
        "    result = 0\n",
        "\n",
        "    for c in range(len(matrix[0])):\n",
        "        for r in range(len(matrix)):\n",
        "            if matrix[r][c] != 0:\n",
        "                result += matrix[r][c]\n",
        "            else:\n",
        "                break\n",
        "    return result\n"
      ],
      "metadata": {
        "id": "QW7Aie6MO-X0"
      },
      "execution_count": null,
      "outputs": []
    }
  ]
}