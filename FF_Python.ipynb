{
  "nbformat": 4,
  "nbformat_minor": 0,
  "metadata": {
    "colab": {
      "provenance": [],
      "authorship_tag": "ABX9TyNlvD8r16Xu4eWxAulkM3mB",
      "include_colab_link": true
    },
    "kernelspec": {
      "name": "python3",
      "display_name": "Python 3"
    },
    "language_info": {
      "name": "python"
    }
  },
  "cells": [
    {
      "cell_type": "markdown",
      "metadata": {
        "id": "view-in-github",
        "colab_type": "text"
      },
      "source": [
        "<a href=\"https://colab.research.google.com/github/f2fang/f2fang/blob/main/FF_Python.ipynb\" target=\"_parent\"><img src=\"https://colab.research.google.com/assets/colab-badge.svg\" alt=\"Open In Colab\"/></a>"
      ]
    },
    {
      "cell_type": "markdown",
      "source": [
        "### Almost increasing sequence\n",
        "\n",
        "Given a sequence of integers as an array, determine whether it is possible to obtain a strictly increasing sequence by removing no more than one element from the array.\n",
        "\n",
        "Note: sequence a0, a1, ..., an is considered to be a strictly increasing if a0 < a1 < ... < an. Sequence containing only one element is also considered to be strictly increasing.\n",
        "\n",
        "#### Solving idea\n",
        "\n",
        "3 items:\n",
        "Prev Last Current\n",
        "\n",
        "1 boolean Flag: Dropped, only can drop for 1 time!\n",
        "\n",
        "\n",
        "`for loop to get Current:\n",
        "\n",
        "  if Current <= Last, find the unincreasing one\n",
        "\n",
        "    if Dropped is True, already dropped:\n",
        "      return False\n",
        "    else\n",
        "      set dropped = True\n",
        "    if Current <= Prev, virtually dropped the Last, but still samller than Prev.\n",
        "      set Prev = Last, will return False next step;\n",
        "    else:\n",
        "      prev, last = last, current\n",
        "  else:\n",
        "    prev, last = last, current\n",
        "return True`\n",
        "  "
      ],
      "metadata": {
        "id": "UPbs0s5GmXRM"
      }
    },
    {
      "cell_type": "code",
      "execution_count": null,
      "metadata": {
        "id": "kqa3lvEvmL5e"
      },
      "outputs": [],
      "source": [
        "\n",
        "def solution(sequence):\n",
        "    dropped = False\n",
        "    prev = last = min(sequence) -1\n",
        "    for item in sequence:\n",
        "        if item <= last:\n",
        "            if dropped == True:\n",
        "                return False\n",
        "            else:\n",
        "                dropped = True\n",
        "            if item <= prev:\n",
        "                prev =  last\n",
        "            else:\n",
        "                prev, last = last, item\n",
        "        else:\n",
        "            prev, last = last, item\n",
        "    return True\n",
        ""
      ]
    }
  ]
}