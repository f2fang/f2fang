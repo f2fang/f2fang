{
  "nbformat": 4,
  "nbformat_minor": 0,
  "metadata": {
    "colab": {
      "provenance": [],
      "gpuType": "T4",
      "include_colab_link": true
    },
    "kernelspec": {
      "name": "python3",
      "display_name": "Python 3"
    },
    "language_info": {
      "name": "python"
    }
  },
  "cells": [
    {
      "cell_type": "markdown",
      "metadata": {
        "id": "view-in-github",
        "colab_type": "text"
      },
      "source": [
        "<a href=\"https://colab.research.google.com/github/f2fang/f2fang/blob/main/FF_c.ipynb\" target=\"_parent\"><img src=\"https://colab.research.google.com/assets/colab-badge.svg\" alt=\"Open In Colab\"/></a>"
      ]
    },
    {
      "cell_type": "code",
      "source": [
        "!nvcc --version"
      ],
      "metadata": {
        "colab": {
          "base_uri": "https://localhost:8080/"
        },
        "id": "VV-I_2F2N_hr",
        "outputId": "a72419e6-e8bb-46a7-a3e9-30f95d1d4d45"
      },
      "execution_count": null,
      "outputs": [
        {
          "output_type": "stream",
          "name": "stdout",
          "text": [
            "nvcc: NVIDIA (R) Cuda compiler driver\n",
            "Copyright (c) 2005-2022 NVIDIA Corporation\n",
            "Built on Wed_Sep_21_10:33:58_PDT_2022\n",
            "Cuda compilation tools, release 11.8, V11.8.89\n",
            "Build cuda_11.8.r11.8/compiler.31833905_0\n"
          ]
        }
      ]
    },
    {
      "cell_type": "code",
      "source": [
        "!pip install git+https://github.com/andreinechaev/nvcc4jupyter.git"
      ],
      "metadata": {
        "colab": {
          "base_uri": "https://localhost:8080/"
        },
        "id": "8nUPHPoWOE1H",
        "outputId": "24c02588-3f82-4fe5-e2fe-c237f71dec20"
      },
      "execution_count": null,
      "outputs": [
        {
          "output_type": "stream",
          "name": "stdout",
          "text": [
            "Collecting git+https://github.com/andreinechaev/nvcc4jupyter.git\n",
            "  Cloning https://github.com/andreinechaev/nvcc4jupyter.git to /tmp/pip-req-build-1l0rrvro\n",
            "  Running command git clone --filter=blob:none --quiet https://github.com/andreinechaev/nvcc4jupyter.git /tmp/pip-req-build-1l0rrvro\n",
            "  Resolved https://github.com/andreinechaev/nvcc4jupyter.git to commit 0a71d56e5dce3ff1f0dd2c47c29367629262f527\n",
            "  Preparing metadata (setup.py) ... \u001b[?25l\u001b[?25hdone\n",
            "Building wheels for collected packages: NVCCPlugin\n",
            "  Building wheel for NVCCPlugin (setup.py) ... \u001b[?25l\u001b[?25hdone\n",
            "  Created wheel for NVCCPlugin: filename=NVCCPlugin-0.0.2-py3-none-any.whl size=4295 sha256=343c48b1498af75658275c8ac31ab07147736131d51e13c9f561dd0a26ec9bc7\n",
            "  Stored in directory: /tmp/pip-ephem-wheel-cache-y8b1lbf6/wheels/a8/b9/18/23f8ef71ceb0f63297dd1903aedd067e6243a68ea756d6feea\n",
            "Successfully built NVCCPlugin\n",
            "Installing collected packages: NVCCPlugin\n",
            "Successfully installed NVCCPlugin-0.0.2\n"
          ]
        }
      ]
    },
    {
      "cell_type": "code",
      "source": [
        "%load_ext nvcc_plugin"
      ],
      "metadata": {
        "colab": {
          "base_uri": "https://localhost:8080/"
        },
        "id": "CECBvm1WOJxr",
        "outputId": "9893abae-cd4c-4aed-ed32-8498cf47fd94"
      },
      "execution_count": null,
      "outputs": [
        {
          "output_type": "stream",
          "name": "stdout",
          "text": [
            "created output directory at /content/src\n",
            "Out bin /content/result.out\n"
          ]
        }
      ]
    },
    {
      "cell_type": "markdown",
      "source": [
        "###Printing Pattern Using Loops\n",
        "Print a pattern of numbers from  to  as shown below. Each of the numbers is separated by a single space.\n",
        "\n",
        "                            4 4 4 4 4 4 4  \n",
        "                            4 3 3 3 3 3 4   \n",
        "                            4 3 2 2 2 3 4   \n",
        "                            4 3 2 1 2 3 4   \n",
        "                            4 3 2 2 2 3 4   \n",
        "                            4 3 3 3 3 3 4   \n",
        "                            4 4 4 4 4 4 4   \n",
        "https://www.hackerrank.com/challenges/printing-pattern-2/problem?isFullScreen=true\n",
        "\n",
        "\n"
      ],
      "metadata": {
        "id": "qB_umTF9O4sI"
      }
    },
    {
      "cell_type": "code",
      "execution_count": null,
      "metadata": {
        "id": "MgCGC2TMNOId",
        "outputId": "e14ef075-7c43-4219-f4f3-e9d3f613ab6e",
        "colab": {
          "base_uri": "https://localhost:8080/"
        }
      },
      "outputs": [
        {
          "output_type": "stream",
          "name": "stdout",
          "text": [
            "4 4 4 4 4 4 4 \n",
            "4 3 3 3 3 3 4 \n",
            "4 3 2 2 2 3 4 \n",
            "4 3 2 1 2 3 4 \n",
            "4 3 2 2 2 3 4 \n",
            "4 3 3 3 3 3 4 \n",
            "4 4 4 4 4 4 4 \n",
            "\n"
          ]
        }
      ],
      "source": [
        "\n",
        "%%cu\n",
        "#include <stdio.h>\n",
        "#include <string.h>\n",
        "#include <math.h>\n",
        "#include <stdlib.h>\n",
        "\n",
        "int main()\n",
        "{\n",
        "\n",
        "    int n;\n",
        "    //scanf(\"%d\", &n);\n",
        "    n = 4;\n",
        "\n",
        "  \t// Complete the code to print the pattern.\n",
        "    int i, j, number;\n",
        "    number = n*2 -1;\n",
        "\n",
        "    for(i=0;i<=number/2;i++){\n",
        "        for(j=n;j>=1;j--){\n",
        "            if(j > n - i){\n",
        "                printf(\"%d \", j);\n",
        "            }\n",
        "            else{\n",
        "                printf(\"%d \",n-i);\n",
        "            }\n",
        "\n",
        "        }\n",
        "        for(j=2;j<=n;j++){\n",
        "            if(j ==n ){\n",
        "                printf(\"%d \\n\", j);\n",
        "            }\n",
        "            else if(j > n - i){\n",
        "                printf(\"%d \", j);\n",
        "            }\n",
        "            else{\n",
        "                printf(\"%d \",n-i);\n",
        "            }\n",
        "        }\n",
        "    }\n",
        "\n",
        "    for(i=number/2;i>0;i--){\n",
        "        for(j=n;j>=1;j--){\n",
        "            if(j > n - i){\n",
        "                printf(\"%d \", j);\n",
        "            }\n",
        "            else{\n",
        "                printf(\"%d \",n-i+1);\n",
        "            }\n",
        "        }\n",
        "        for(j=2;j<=n;j++){\n",
        "            if(j ==n ){\n",
        "                printf(\"%d \\n\", j);\n",
        "            }\n",
        "            else if(j > n - i){\n",
        "                printf(\"%d \", j);\n",
        "            }\n",
        "            else{\n",
        "                printf(\"%d \",n-i+1);\n",
        "            }\n",
        "        }\n",
        "    }\n",
        "\n",
        "    return 0;\n",
        "}\n"
      ]
    },
    {
      "cell_type": "markdown",
      "source": [
        "### 1D Arrays in C\n",
        "Input Format\n",
        "\n",
        "The first line contains an integer, .\n",
        "The next line contains  space-separated integers.\n",
        "\n",
        "Output Format\n",
        "\n",
        "Print the sum of the integers in the array.\n",
        "Sample Input 0\n",
        "\n",
        "\n",
        "\n",
        "```\n",
        "6\n",
        "16 13 7 2 1 12\n",
        "```\n",
        "\n",
        "\n",
        "Sample Output 0\n",
        "\n",
        "`51`"
      ],
      "metadata": {
        "id": "XMFkks3uUxQc"
      }
    },
    {
      "cell_type": "code",
      "source": [
        "%%cu\n",
        "#include <stdio.h>\n",
        "#include <string.h>\n",
        "#include <math.h>\n",
        "#include <stdlib.h>\n",
        "\n",
        "int sum(int A[], int n){\n",
        "    int sum = 0;\n",
        "    for (int i = 0; i< n ; i++){\n",
        "        sum = sum + A[i];\n",
        "    }\n",
        "    return sum;\n",
        "}\n",
        "\n",
        "int main() {\n",
        "\n",
        "    /* Enter your code here. Read input from STDIN. Print output to STDOUT */\n",
        "    int n;\n",
        "    //scanf(\"%d\", &n);\n",
        "    n = 6;\n",
        "    int Test[] = {16, 13, 7, 2, 1, 12};\n",
        "    int *arr = (int *)malloc(n * sizeof(int));\n",
        "    for(int i = 0;i<n; i++){\n",
        "        //scanf(\"%d\", &arr[i]);\n",
        "        arr[i] = Test[i];\n",
        "    }\n",
        "    printf(\"%d\", sum(arr, n));\n",
        "    free(arr);\n",
        "    return 0;\n",
        "}\n"
      ],
      "metadata": {
        "colab": {
          "base_uri": "https://localhost:8080/"
        },
        "id": "RKn5uHduVAR2",
        "outputId": "3b14a7a9-a7fd-4cd4-bbf7-d75e46a75f6f"
      },
      "execution_count": null,
      "outputs": [
        {
          "output_type": "stream",
          "name": "stdout",
          "text": [
            "51\n"
          ]
        }
      ]
    },
    {
      "cell_type": "markdown",
      "source": [],
      "metadata": {
        "id": "zNmcxXXyYQ5j"
      }
    },
    {
      "cell_type": "markdown",
      "source": [
        "###Array Reversal\n",
        "Given an array, of size `n` , reverse it.\n",
        "Sample Input 0\n",
        "\n",
        "\n",
        "\n",
        "```\n",
        "6\n",
        "16 13 7 2 1 12\n",
        "```\n",
        "\n",
        "\n",
        "Sample Output 0\n",
        "\n",
        "`12 1 2 7 13 16 `\n",
        "\n"
      ],
      "metadata": {
        "id": "MoGAri7aP83s"
      }
    },
    {
      "cell_type": "code",
      "source": [
        "%%cu\n",
        "#include <stdio.h>\n",
        "#include <stdlib.h>\n",
        "\n",
        "int main()\n",
        "{\n",
        "    int num, *arr, i;\n",
        "    //scanf(\"%d\", &num);\n",
        "    num = 6;\n",
        "    int Test[] = {16, 13, 7, 2, 1, 12};\n",
        "    arr = (int*) malloc(num * sizeof(int));\n",
        "    for(i = 0; i < num; i++) {\n",
        "        //scanf(\"%d\", arr + i);\n",
        "        arr[i] = Test[i];\n",
        "    }\n",
        "\n",
        "    /* Write the logic to reverse the array. */\n",
        "    int j, temp;\n",
        "    for(i=0, j=num-1; i<j; i++,j--){\n",
        "        temp = arr[i];\n",
        "        arr[i] = arr[j];\n",
        "        arr[j] = temp;\n",
        "    }\n",
        "    for(i = 0; i < num; i++)\n",
        "        printf(\"%d \", *(arr + i));\n",
        "    free(arr);\n",
        "    return 0;\n",
        "}\n"
      ],
      "metadata": {
        "colab": {
          "base_uri": "https://localhost:8080/"
        },
        "id": "zruVCqBLYSQN",
        "outputId": "ce759244-479d-4f22-af82-c58ad0ada60f"
      },
      "execution_count": null,
      "outputs": [
        {
          "output_type": "stream",
          "name": "stdout",
          "text": [
            "12 1 2 7 13 16 \n"
          ]
        }
      ]
    },
    {
      "cell_type": "markdown",
      "source": [
        "### Printing Tokens\n",
        "Given a sentence, , print each word of the sentence in a new line.\n",
        "\n",
        "Input Format\n",
        "\n",
        "The first and only line contains a sentence, `s`.\n",
        "\n",
        "Sample Input 0\n",
        "\n",
        "`This is C `\n",
        "\n",
        "Sample Output 0\n",
        "\n",
        "```\n",
        "This\n",
        "is\n",
        "C\n",
        "```\n",
        "\n"
      ],
      "metadata": {
        "id": "ZW40MyGiaU1t"
      }
    },
    {
      "cell_type": "code",
      "source": [
        "%%cu\n",
        "#include <stdio.h>\n",
        "#include <string.h>\n",
        "#include <math.h>\n",
        "#include <stdlib.h>\n",
        "\n",
        "int main() {\n",
        "\n",
        "    //char *s;\n",
        "    //s = malloc(1024 * sizeof(char));\n",
        "    //scanf(\"%[^\\n]\", s);\n",
        "    //s = realloc(s, strlen(s) + 1);\n",
        "    char *s = \"This is C\";\n",
        "    //Write your logic to print the tokens of the sentence here.\n",
        "    int len = strlen(s);\n",
        "    for(int i =0; i< strlen(s); i++){\n",
        "        if(s[i] != ' '){\n",
        "            printf(\"%c\", s[i]);\n",
        "        }\n",
        "        else{\n",
        "            printf(\"\\n\");\n",
        "        }\n",
        "    }\n",
        "    return 0;\n",
        "}\n"
      ],
      "metadata": {
        "colab": {
          "base_uri": "https://localhost:8080/"
        },
        "id": "6pPoSoUFaa-z",
        "outputId": "65bd7114-bee2-47e6-fc51-c618ab9e0551"
      },
      "execution_count": null,
      "outputs": [
        {
          "output_type": "stream",
          "name": "stdout",
          "text": [
            "This\n",
            "is\n",
            "C\n"
          ]
        }
      ]
    },
    {
      "cell_type": "markdown",
      "source": [
        "### Digit Frequency\n",
        "Given a string, , consisting of alphabets and digits, find the frequency of each digit in the given string.\n",
        "\n",
        "Output Format\n",
        "\n",
        "Print ten space-separated integers in a single line denoting the frequency of each digit from  to .\n",
        "\n",
        "Sample Input 0\n",
        "\n",
        "`a11472o5t6`\n",
        "\n",
        "Sample Output 0\n",
        "\n",
        "`0 2 1 0 1 1 1 1 0 0 `"
      ],
      "metadata": {
        "id": "DZb8gFpZ6J9s"
      }
    },
    {
      "cell_type": "code",
      "source": [
        "%%cu\n",
        "#include <stdio.h>\n",
        "#include <string.h>\n",
        "#include <math.h>\n",
        "#include <stdlib.h>\n",
        "\n",
        "int main() {\n",
        "\n",
        "    /* Enter your code here. Read input from STDIN. Print output to STDOUT */\n",
        "    int num[10] = {0};\n",
        "    //char s[1000];\n",
        "    //scanf(\"%s\", &s);\n",
        "    char *s = \"a11472o5t6\";\n",
        "    for(int i = 0; i < strlen(s);i++){\n",
        "        if(s[i] >= '0' && s[i] <= '9'){\n",
        "            num[s[i] -'0']++;\n",
        "        }\n",
        "    }\n",
        "    for(int i = 0; i<=9; i++){\n",
        "        printf(\"%d \", num[i]);\n",
        "    }\n",
        "    return 0;\n",
        "}\n"
      ],
      "metadata": {
        "colab": {
          "base_uri": "https://localhost:8080/"
        },
        "id": "Kpxcg73J6agA",
        "outputId": "d249a9fe-4784-40e4-8ae0-9838b5e749d5"
      },
      "execution_count": null,
      "outputs": [
        {
          "output_type": "stream",
          "name": "stdout",
          "text": [
            "0 2 1 0 1 1 1 1 0 0 \n"
          ]
        }
      ]
    },
    {
      "cell_type": "markdown",
      "source": [
        "### Dynamic Array in C\n",
        "now Howler is the librarian at the central library of the city of HuskyLand.\n",
        "He must handle requests which come in the following forms:\n",
        "\n",
        "1 x y : Insert a book with `y` pages at the `xth` end of the  shelf.\n",
        "\n",
        "2 x y : Print the number of pages in the `yth` book on the `xth` shelf.\n",
        "\n",
        "3 x : Print the number of books on the `xth` shelf.\n",
        "\n",
        "Output Format\n",
        "\n",
        "Write the logic for the requests of type 1. The logic for requests of types 2 and 3 are provided.\n",
        "\n",
        "Sample Input 0\n",
        "\n",
        "```\n",
        "5\n",
        "5\n",
        "1 0 15\n",
        "1 0 20\n",
        "1 2 78\n",
        "2 2 0\n",
        "3 0\n",
        "```\n",
        "\n",
        "\n",
        "\n",
        "Sample Output 0\n",
        "\n",
        "```\n",
        "78\n",
        "2\n",
        "```\n",
        "\n"
      ],
      "metadata": {
        "id": "MdAPMrcCEYN9"
      }
    },
    {
      "cell_type": "code",
      "source": [
        "%%cu\n",
        "#include <stdio.h>\n",
        "#include <stdlib.h>\n",
        "\n",
        "/*\n",
        " * This stores the total number of books in each shelf.\n",
        " */\n",
        "int* total_number_of_books;\n",
        "\n",
        "/*\n",
        " * This stores the total number of pages in each book of each shelf.\n",
        " * The rows represent the shelves and the columns represent the books.\n",
        " */\n",
        "int** total_number_of_pages;\n",
        "\n",
        "int input_arry[] = {1,0,15,\n",
        "                  1,0,20,\n",
        "                  1,2,78,\n",
        "                  2,2,0,\n",
        "                  3,0\n",
        "                  };\n",
        "\n",
        "int main()\n",
        "{\n",
        "    int total_number_of_shelves;\n",
        "    //scanf(\"%d\", &total_number_of_shelves);\n",
        "    total_number_of_shelves = 5;\n",
        "\n",
        "    int total_number_of_queries;\n",
        "    //scanf(\"%d\", &total_number_of_queries);\n",
        "    total_number_of_queries = 5;\n",
        "    //printf(\" total query: %d\\n\", total_number_of_queries);\n",
        "\n",
        "    total_number_of_books = (int *) calloc(total_number_of_shelves, sizeof(int));\n",
        "    total_number_of_pages = (int **)calloc(total_number_of_shelves ,sizeof(int *));\n",
        "    int i = 0;\n",
        "    while (total_number_of_queries--) {\n",
        "        int type_of_query;\n",
        "\n",
        "        //scanf(\"%d\", &type_of_query);\n",
        "        int index = 3 * i++;\n",
        "        type_of_query = input_arry[index];\n",
        "        //printf(\"%d\\n\", type_of_query);\n",
        "        if (type_of_query == 1) {\n",
        "            /*\n",
        "             * Process the query of first type here.\n",
        "             */\n",
        "            int x, y;\n",
        "            //scanf(\"%d %d\", &x, &y);\n",
        "            x = input_arry[index+1];\n",
        "            y = input_arry[index+2];\n",
        "            //printf(\"1: x = %d, y = %d\\n\", x, y);\n",
        "\n",
        "            total_number_of_books[x]++;\n",
        "            total_number_of_pages[x] = (int *)realloc(total_number_of_pages[x], sizeof(int) * total_number_of_books[x]);\n",
        "            total_number_of_pages[x][total_number_of_books[x]-1] = y;\n",
        "\n",
        "        } else if (type_of_query == 2) {\n",
        "            int x, y;\n",
        "            //scanf(\"%d %d\", &x, &y);\n",
        "            x = input_arry[index+1];\n",
        "            y = input_arry[index+2];\n",
        "            printf(\"%d\\n\", *(*(total_number_of_pages + x) + y));\n",
        "        } else {\n",
        "            int x;\n",
        "            //scanf(\"%d\", &x);\n",
        "            x = input_arry[index+1];\n",
        "            printf(\"%d\\n\", *(total_number_of_books + x));\n",
        "        }\n",
        "    }\n",
        "\n",
        "    if (total_number_of_books) {\n",
        "        free(total_number_of_books);\n",
        "    }\n",
        "\n",
        "    for (int i = 0; i < total_number_of_shelves; i++) {\n",
        "        if (*(total_number_of_pages + i)) {\n",
        "            free(*(total_number_of_pages + i));\n",
        "        }\n",
        "    }\n",
        "\n",
        "    if (total_number_of_pages) {\n",
        "        free(total_number_of_pages);\n",
        "    }\n",
        "\n",
        "    return 0;\n",
        "}"
      ],
      "metadata": {
        "colab": {
          "base_uri": "https://localhost:8080/"
        },
        "id": "MLTKn91NDgvz",
        "outputId": "3637985a-0302-4a2d-dcbb-b35ff9d67f4d"
      },
      "execution_count": null,
      "outputs": [
        {
          "output_type": "stream",
          "name": "stdout",
          "text": [
            "78\n",
            "2\n",
            "\n"
          ]
        }
      ]
    },
    {
      "cell_type": "markdown",
      "source": [
        "### Permutations of Strings\n",
        "Given an array of strings sorted in lexicographical order, print all of its permutations in strict lexicographical order. If two permutations look the same, only print one of them. See the 'note' below for an example.\n",
        "\n",
        "Complete the function next_permutation which generates the permutations in the described order.\n",
        "\n",
        "For example,`s = [ab, bc, cd]` . The six permutations in correct order are:\n",
        "\n",
        "\n",
        "```\n",
        "ab bc cd\n",
        "ab cd bc\n",
        "bc ab cd\n",
        "bc cd ab\n",
        "cd ab bc\n",
        "cd bc ab\n",
        "```\n",
        "Output Format\n",
        "\n",
        "Print each permutation as a list of space-separated strings on a single line.\n",
        "\n",
        "Sample Input 0\n",
        "\n",
        "\n",
        "```\n",
        "2\n",
        "ab\n",
        "cd\n",
        "```\n",
        "\n",
        "\n",
        "Sample Output 0\n",
        "```\n",
        "ab cd\n",
        "cd ab\n",
        "```\n",
        "\n",
        "\n"
      ],
      "metadata": {
        "id": "Mpu_r5bBJP9w"
      }
    },
    {
      "cell_type": "code",
      "source": [
        "%%cu\n",
        "#include <stdio.h>\n",
        "#include <stdlib.h>\n",
        "#include <string.h>\n",
        "\n",
        "void swap(char **s, int i, int j){\n",
        "    char * temp = s[i];\n",
        "    s[i] = s[j];\n",
        "    s[j] = temp;\n",
        "}\n",
        "\n",
        "void reverse(char **s, int start, int end){\n",
        "    while(start < end){\n",
        "        swap(s, start++, end--);\n",
        "    }\n",
        "}\n",
        "int next_permutation(int n, char **s)\n",
        "{\n",
        "\t/**\n",
        "\t* Complete this method\n",
        "\t* Return 0 when there is no next permutation and 1 otherwise\n",
        "\t* Modify array s to its next permutation\n",
        "\t*/\n",
        "    for(int i= n-2; i>=0;i--){\n",
        "        if(strcmp(s[i+1],s[i])>0){\n",
        "            //get min max\n",
        "            //printf(\"strcmp s[%d+1], s[%d]\\n\",i, i);\n",
        "            for(int j=n-1;j>i;j--){\n",
        "                //printf(\"for j=%d\\n\",j);\n",
        "                if(strcmp(s[j],s[i])>0){\n",
        "                    //printf(\"strcmp s[%d], s[%d]\\n\",j, i);\n",
        "                    //do swap\n",
        "                    swap(s,i,j);\n",
        "                    // do reverse\n",
        "                    reverse(s,i+1,n-1);\n",
        "                    return 1;\n",
        "                }\n",
        "            }\n",
        "        }\n",
        "    }\n",
        "    return 0;\n",
        "}\n",
        "\n",
        "int main()\n",
        "{\n",
        "\tchar **s;\n",
        "\tint n;\n",
        "\t//scanf(\"%d\", &n);\n",
        "  n = 2;\n",
        "  const char *input[]= {\"ab\", \"cd\"};\n",
        "\ts = (char **)calloc(n, sizeof(char*));\n",
        "\tfor (int i = 0; i < n; i++)\n",
        "\t{\n",
        "\t\ts[i] = (char *)calloc(11, sizeof(char));\n",
        "\t\t//scanf(\"%s\", s[i]);\n",
        "    strcpy(s[i], input[i]);\n",
        "\t}\n",
        "\n",
        "\n",
        "\tdo\n",
        "\t{\n",
        "\t\tfor (int i = 0; i < n; i++)\n",
        "\t\t\tprintf(\"%s%c\", s[i], i == n - 1 ? '\\n' : ' ');\n",
        "\t} while (next_permutation(n, s));\n",
        "\tfor (int i = 0; i < n; i++)\n",
        "\t\tfree(s[i]);\n",
        "\tfree(s);\n",
        "\treturn 0;\n",
        "}"
      ],
      "metadata": {
        "colab": {
          "base_uri": "https://localhost:8080/"
        },
        "id": "Am-crPDjJ5-j",
        "outputId": "01ca7516-9635-47dc-dbdc-1aa0ad3b29f8"
      },
      "execution_count": null,
      "outputs": [
        {
          "output_type": "stream",
          "name": "stdout",
          "text": [
            "ab cd\n",
            "cd ab\n",
            "\n"
          ]
        }
      ]
    },
    {
      "cell_type": "markdown",
      "source": [
        "### Variadic functions in C\n",
        "Implement three variadic functions named ,  and  to calculate sums, minima, maxima of a variable number of arguments."
      ],
      "metadata": {
        "id": "01VzbFnnI723"
      }
    },
    {
      "cell_type": "code",
      "source": [
        "%%cu\n",
        "#include <stdarg.h>\n",
        "#include <stdio.h>\n",
        "#include <stdlib.h>\n",
        "#include <time.h>\n",
        "\n",
        "#define MIN_ELEMENT 1\n",
        "#define MAX_ELEMENT 1000000\n",
        "int sum (int count,...) {\n",
        "    int sum=0;\n",
        "\n",
        "    va_list p;\n",
        "    va_start(p, count);\n",
        "    for(int i=0;i<count;i++){\n",
        "        sum += va_arg(p, int);\n",
        "    }\n",
        "    va_end(p);\n",
        "    return sum;\n",
        "}\n",
        "\n",
        "int min(int count,...) {\n",
        "    va_list p;\n",
        "    va_start(p, count);\n",
        "    int min = va_arg(p, int);\n",
        "    for(int i=0;i<count;i++){\n",
        "        int temp = va_arg(p, int);\n",
        "        if( temp < min){\n",
        "            min = temp;\n",
        "        }\n",
        "    }\n",
        "    va_end(p);\n",
        "    return min;\n",
        "}\n",
        "\n",
        "int max(int count,...) {\n",
        "    va_list p;\n",
        "    va_start(p, count);\n",
        "    int max = va_arg(p, int);\n",
        "    for(int i=0;i<count;i++){\n",
        "        int temp = va_arg(p, int);\n",
        "        if( temp > max){\n",
        "            max = temp;\n",
        "        }\n",
        "    }\n",
        "    va_end(p);\n",
        "    return max;\n",
        "}\n",
        "\n",
        "int test_implementations_by_sending_three_elements() {\n",
        "    srand(time(NULL));\n",
        "\n",
        "    int elements[3];\n",
        "\n",
        "    elements[0] = rand() % (MAX_ELEMENT - MIN_ELEMENT + 1) + MIN_ELEMENT;\n",
        "    elements[1] = rand() % (MAX_ELEMENT - MIN_ELEMENT + 1) + MIN_ELEMENT;\n",
        "    elements[2] = rand() % (MAX_ELEMENT - MIN_ELEMENT + 1) + MIN_ELEMENT;\n",
        "\n",
        "    fprintf(stderr, \"Sending following three elements:\\n\");\n",
        "    for (int i = 0; i < 3; i++) {\n",
        "        fprintf(stderr, \"%d\\n\", elements[i]);\n",
        "    }\n",
        "\n",
        "    int elements_sum = sum(3, elements[0], elements[1], elements[2]);\n",
        "    int minimum_element = min(3, elements[0], elements[1], elements[2]);\n",
        "    int maximum_element = max(3, elements[0], elements[1], elements[2]);\n",
        "\n",
        "    fprintf(stderr, \"Your output is:\\n\");\n",
        "    fprintf(stderr, \"Elements sum is %d\\n\", elements_sum);\n",
        "    fprintf(stderr, \"Minimum element is %d\\n\", minimum_element);\n",
        "    fprintf(stderr, \"Maximum element is %d\\n\\n\", maximum_element);\n",
        "\n",
        "    int expected_elements_sum = 0;\n",
        "    for (int i = 0; i < 3; i++) {\n",
        "        if (elements[i] < minimum_element) {\n",
        "            return 0;\n",
        "        }\n",
        "\n",
        "        if (elements[i] > maximum_element) {\n",
        "            return 0;\n",
        "        }\n",
        "\n",
        "        expected_elements_sum += elements[i];\n",
        "    }\n",
        "\n",
        "    return elements_sum == expected_elements_sum;\n",
        "}\n",
        "\n",
        "int test_implementations_by_sending_five_elements() {\n",
        "    srand(time(NULL));\n",
        "\n",
        "    int elements[5];\n",
        "\n",
        "    elements[0] = rand() % (MAX_ELEMENT - MIN_ELEMENT + 1) + MIN_ELEMENT;\n",
        "    elements[1] = rand() % (MAX_ELEMENT - MIN_ELEMENT + 1) + MIN_ELEMENT;\n",
        "    elements[2] = rand() % (MAX_ELEMENT - MIN_ELEMENT + 1) + MIN_ELEMENT;\n",
        "    elements[3] = rand() % (MAX_ELEMENT - MIN_ELEMENT + 1) + MIN_ELEMENT;\n",
        "    elements[4] = rand() % (MAX_ELEMENT - MIN_ELEMENT + 1) + MIN_ELEMENT;\n",
        "\n",
        "    fprintf(stderr, \"Sending following five elements:\\n\");\n",
        "    for (int i = 0; i < 5; i++) {\n",
        "        fprintf(stderr, \"%d\\n\", elements[i]);\n",
        "    }\n",
        "\n",
        "    int elements_sum = sum(5, elements[0], elements[1], elements[2], elements[3], elements[4]);\n",
        "    int minimum_element = min(5, elements[0], elements[1], elements[2], elements[3], elements[4]);\n",
        "    int maximum_element = max(5, elements[0], elements[1], elements[2], elements[3], elements[4]);\n",
        "\n",
        "    fprintf(stderr, \"Your output is:\\n\");\n",
        "    fprintf(stderr, \"Elements sum is %d\\n\", elements_sum);\n",
        "    fprintf(stderr, \"Minimum element is %d\\n\", minimum_element);\n",
        "    fprintf(stderr, \"Maximum element is %d\\n\\n\", maximum_element);\n",
        "\n",
        "    int expected_elements_sum = 0;\n",
        "    for (int i = 0; i < 5; i++) {\n",
        "        if (elements[i] < minimum_element) {\n",
        "            return 0;\n",
        "        }\n",
        "\n",
        "        if (elements[i] > maximum_element) {\n",
        "            return 0;\n",
        "        }\n",
        "\n",
        "        expected_elements_sum += elements[i];\n",
        "    }\n",
        "\n",
        "    return elements_sum == expected_elements_sum;\n",
        "}\n",
        "\n",
        "int test_implementations_by_sending_ten_elements() {\n",
        "    srand(time(NULL));\n",
        "\n",
        "    int elements[10];\n",
        "\n",
        "    elements[0] = rand() % (MAX_ELEMENT - MIN_ELEMENT + 1) + MIN_ELEMENT;\n",
        "    elements[1] = rand() % (MAX_ELEMENT - MIN_ELEMENT + 1) + MIN_ELEMENT;\n",
        "    elements[2] = rand() % (MAX_ELEMENT - MIN_ELEMENT + 1) + MIN_ELEMENT;\n",
        "    elements[3] = rand() % (MAX_ELEMENT - MIN_ELEMENT + 1) + MIN_ELEMENT;\n",
        "    elements[4] = rand() % (MAX_ELEMENT - MIN_ELEMENT + 1) + MIN_ELEMENT;\n",
        "    elements[5] = rand() % (MAX_ELEMENT - MIN_ELEMENT + 1) + MIN_ELEMENT;\n",
        "    elements[6] = rand() % (MAX_ELEMENT - MIN_ELEMENT + 1) + MIN_ELEMENT;\n",
        "    elements[7] = rand() % (MAX_ELEMENT - MIN_ELEMENT + 1) + MIN_ELEMENT;\n",
        "    elements[8] = rand() % (MAX_ELEMENT - MIN_ELEMENT + 1) + MIN_ELEMENT;\n",
        "    elements[9] = rand() % (MAX_ELEMENT - MIN_ELEMENT + 1) + MIN_ELEMENT;\n",
        "\n",
        "    fprintf(stderr, \"Sending following ten elements:\\n\");\n",
        "    for (int i = 0; i < 10; i++) {\n",
        "        fprintf(stderr, \"%d\\n\", elements[i]);\n",
        "    }\n",
        "\n",
        "    int elements_sum = sum(10, elements[0], elements[1], elements[2], elements[3], elements[4],\n",
        "                           elements[5], elements[6], elements[7], elements[8], elements[9]);\n",
        "    int minimum_element = min(10, elements[0], elements[1], elements[2], elements[3], elements[4],\n",
        "                           elements[5], elements[6], elements[7], elements[8], elements[9]);\n",
        "    int maximum_element = max(10, elements[0], elements[1], elements[2], elements[3], elements[4],\n",
        "                           elements[5], elements[6], elements[7], elements[8], elements[9]);\n",
        "\n",
        "    fprintf(stderr, \"Your output is:\\n\");\n",
        "    fprintf(stderr, \"Elements sum is %d\\n\", elements_sum);\n",
        "    fprintf(stderr, \"Minimum element is %d\\n\", minimum_element);\n",
        "    fprintf(stderr, \"Maximum element is %d\\n\\n\", maximum_element);\n",
        "\n",
        "    int expected_elements_sum = 0;\n",
        "    for (int i = 0; i < 10; i++) {\n",
        "        if (elements[i] < minimum_element) {\n",
        "            return 0;\n",
        "        }\n",
        "\n",
        "        if (elements[i] > maximum_element) {\n",
        "            return 0;\n",
        "        }\n",
        "\n",
        "        expected_elements_sum += elements[i];\n",
        "    }\n",
        "\n",
        "    return elements_sum == expected_elements_sum;\n",
        "}\n",
        "\n",
        "int main ()\n",
        "{\n",
        "    int number_of_test_cases;\n",
        "    //scanf(\"%d\", &number_of_test_cases);\n",
        "    number_of_test_cases = 1;\n",
        "\n",
        "    while (number_of_test_cases--) {\n",
        "        if (test_implementations_by_sending_three_elements()) {\n",
        "            printf(\"Correct Answer\\n\");\n",
        "        } else {\n",
        "            printf(\"Wrong Answer\\n\");\n",
        "        }\n",
        "\n",
        "        if (test_implementations_by_sending_five_elements()) {\n",
        "            printf(\"Correct Answer\\n\");\n",
        "        } else {\n",
        "            printf(\"Wrong Answer\\n\");\n",
        "        }\n",
        "\n",
        "        if (test_implementations_by_sending_ten_elements()) {\n",
        "            printf(\"Correct Answer\\n\");\n",
        "        } else {\n",
        "            printf(\"Wrong Answer\\n\");\n",
        "        }\n",
        "    }\n",
        "\n",
        "    return 0;\n",
        "}"
      ],
      "metadata": {
        "colab": {
          "base_uri": "https://localhost:8080/"
        },
        "id": "7Wkn93_x9pYV",
        "outputId": "def0dea1-5feb-4469-9a44-36411dcb97c9"
      },
      "execution_count": null,
      "outputs": [
        {
          "output_type": "stream",
          "name": "stdout",
          "text": [
            "Sending following three elements:\n",
            "837906\n",
            "431196\n",
            "378063\n",
            "Your output is:\n",
            "Elements sum is 1647165\n",
            "Minimum element is 7\n",
            "Maximum element is 837906\n",
            "\n",
            "Sending following five elements:\n",
            "837906\n",
            "431196\n",
            "378063\n",
            "482322\n",
            "496008\n",
            "Your output is:\n",
            "Elements sum is 2625495\n",
            "Minimum element is 378063\n",
            "Maximum element is 1591185472\n",
            "\n",
            "Sending following ten elements:\n",
            "837906\n",
            "431196\n",
            "378063\n",
            "482322\n",
            "496008\n",
            "899648\n",
            "484285\n",
            "745094\n",
            "697707\n",
            "55245\n",
            "Your output is:\n",
            "Elements sum is 5507474\n",
            "Minimum element is -1811739710\n",
            "Maximum element is 899648\n",
            "\n",
            "Correct Answer\n",
            "Correct Answer\n",
            "Correct Answer\n",
            "\n"
          ]
        }
      ]
    },
    {
      "cell_type": "markdown",
      "source": [
        "### Small Triangles, Large Triangles\n",
        "You are given  triangles, specifically, their sides a, b and c. Print them in the same style but sorted by their areas from the smallest one to the largest one. It is guaranteed that all the areas are different.\n",
        "Output Format\n",
        "\n",
        "Print exactly  lines. On each line print  space-separated integers, the ,  and  of the corresponding triangle.\n",
        "\n",
        "Sample Input 0\n",
        "\n",
        "\n",
        "```\n",
        "3\n",
        "7 24 25\n",
        "5 12 13\n",
        "3 4 5\n",
        "```\n",
        "\n",
        "\n",
        "Sample Output 0\n",
        "\n",
        "\n",
        "```\n",
        "3 4 5\n",
        "5 12 13\n",
        "7 24 25\n",
        "```\n",
        "\n"
      ],
      "metadata": {
        "id": "gd9Vz0E--ZKZ"
      }
    },
    {
      "cell_type": "code",
      "source": [
        "%%cu\n",
        "#include <stdio.h>\n",
        "#include <stdlib.h>\n",
        "#include <math.h>\n",
        "\n",
        "struct triangle\n",
        "{\n",
        "\tint a;\n",
        "\tint b;\n",
        "\tint c;\n",
        "};\n",
        "\n",
        "int test2[60] = {\n",
        "23, 37, 47,\n",
        "22, 18, 5,\n",
        "58, 31, 31,\n",
        "28, 36, 40,\n",
        "54, 62, 11,\n",
        "31, 41, 14,\n",
        "53, 18, 54,\n",
        "41, 38, 55,\n",
        "55, 44, 44,\n",
        "44, 48, 18,\n",
        "26, 41, 65,\n",
        "20, 23, 21,\n",
        "58, 61, 50,\n",
        "28, 56, 56,\n",
        "20, 39, 32,\n",
        "33, 45, 49,\n",
        "26, 41, 62,\n",
        "31, 46, 39,\n",
        "48, 49, 67,\n",
        "57, 33, 45};\n",
        "\n",
        "int test1[9] ={\n",
        "7, 24, 25,\n",
        "5, 12, 13,\n",
        "3, 4, 5\n",
        "};\n",
        "\n",
        "typedef struct triangle triangle;\n",
        "\n",
        "double triangle_area(triangle t){\n",
        "    int a=t.a,b=t.b,c=t.c;\n",
        "    double p = (double)(a+b+c)/2;\n",
        "    double result =  sqrt(p*(p-a)*(p-b)*(p-c));\n",
        "    printf(\"Input a = %d, b= %d, c = %d,p =%f, result = %f\\n\",a,b,c, p,result);\n",
        "    return result;\n",
        "}\n",
        "\n",
        "void swaptri(triangle * ptr1, triangle * ptr2){\n",
        "    triangle temp = *ptr1;\n",
        "    *ptr1 = *ptr2;\n",
        "    *ptr2 = temp;\n",
        "}\n",
        "\n",
        "void swapfloat(double * ptr1, double * ptr2){\n",
        "    double temp = *ptr1;\n",
        "    *ptr1 = *ptr2;\n",
        "    *ptr2 = temp;\n",
        "}\n",
        "\n",
        "void sort_by_area(triangle* tr, int n) {\n",
        "\t/**\n",
        "\t* Sort an array a of the length n\n",
        "\t*/\n",
        "    double area[n];\n",
        "    for(int i=0;i<n;i++){\n",
        "        area[i] = triangle_area(tr[i]);\n",
        "        //printf(\"%f\\n\", area[i]);\n",
        "    }\n",
        "\n",
        "    int flag = 1;\n",
        "    for(int i = 0; i < n - 1 && flag; i++) {\n",
        "        flag = 0;\n",
        "        for(int j = 0; j < n - i - 1; j++) {\n",
        "            if (area[j] > area[j + 1]) {\n",
        "                swapfloat(&area[j], &area[j + 1]);\n",
        "                swaptri(&tr[j], &tr[j + 1]);\n",
        "                flag = 1;\n",
        "            }\n",
        "        }\n",
        "    }\n",
        "    for(int i=0;i<n;i++){\n",
        "        printf(\"area:%f\\n\", area[i]);\n",
        "    }\n",
        "\n",
        "}\n",
        "\n",
        "int main()\n",
        "{\n",
        "\tint n;\n",
        "\t//scanf(\"%d\", &n);\n",
        "  n = 3;\n",
        "\ttriangle *tr = (triangle *)malloc(n * sizeof(triangle));\n",
        "\tfor (int i = 0; i < n; i++) {\n",
        "\t\t//scanf(\"%d%d%d\", &tr[i].a, &tr[i].b, &tr[i].c);\n",
        "    tr[i].a = test1[i*3];\n",
        "    tr[i].b = test1[i*3+1];\n",
        "    tr[i].c = test1[i*3+2];\n",
        "\t}\n",
        "\tsort_by_area(tr, n);\n",
        "\tfor (int i = 0; i < n; i++) {\n",
        "\t\tprintf(\"%d %d %d\\n\", tr[i].a, tr[i].b, tr[i].c);\n",
        "\t}\n",
        "\treturn 0;\n",
        "}"
      ],
      "metadata": {
        "colab": {
          "base_uri": "https://localhost:8080/"
        },
        "id": "ElQd2dPk-5Jd",
        "outputId": "c2c28ae1-774a-4f30-fb6b-dd6f6233c83c"
      },
      "execution_count": null,
      "outputs": [
        {
          "output_type": "stream",
          "name": "stdout",
          "text": [
            "Input a = 7, b= 24, c = 25,p =28.000000, result = 84.000000\n",
            "Input a = 5, b= 12, c = 13,p =15.000000, result = 30.000000\n",
            "Input a = 3, b= 4, c = 5,p =6.000000, result = 6.000000\n",
            "area:6.000000\n",
            "area:30.000000\n",
            "area:84.000000\n",
            "3 4 5\n",
            "5 12 13\n",
            "7 24 25\n",
            "\n"
          ]
        }
      ]
    },
    {
      "cell_type": "markdown",
      "source": [
        "### Give an array, need to give the maximum of the contiguously subarray size\n",
        "\n",
        "For example [10,9,1,2,4,3,3,4,5,5]'s subarray is :\n",
        "[1,2,3,3,4,4,5,5] and [9,10],\n",
        "\n",
        "The maximum subarray size is sizeof ([1,2,3,3,4,4,5,5]) = 8"
      ],
      "metadata": {
        "id": "fiA99nnjByBi"
      }
    },
    {
      "cell_type": "code",
      "source": [
        "%%cu\n",
        "#include <stdio.h>\n",
        "#include <stdlib.h>\n",
        "#include <math.h>\n",
        "/*##### This one is the OA version, failed for 4 cases, but I dont know why??? the n = 27756 , maybe too big size?#############*/\n",
        "\n",
        "int compare(const void *a, const void* b){\n",
        "    return ( *(int*)a - *(int*)b );\n",
        "}\n",
        "\n",
        "int maximum_subarray_size( int n, int *test){\n",
        "    int max = 0;\n",
        "    qsort((void *)test, n, sizeof(int), compare);\n",
        "\n",
        "    int ** subarray = (int **) malloc(n * sizeof(int *));\n",
        "    for (int i = 0; i<n; i++){\n",
        "        subarray[i] =  (int *) malloc(n * sizeof(int));\n",
        "    }\n",
        "\n",
        "    for(int i = 0; i<n; i++){\n",
        "        int len = 1;\n",
        "        subarray[i][0]= test[i];\n",
        "\n",
        "        for(int j = i +1; j<n; j++){\n",
        "            if(subarray[i][len -1] == test[j]\n",
        "               || subarray[i][len -1] +1 == test[j]){\n",
        "                subarray[i][len] = test[j];\n",
        "                len++;\n",
        "            }\n",
        "\n",
        "        }\n",
        "        if(max < len) max = len;\n",
        "    }\n",
        "    for(int i = 0; i < n; i++){\n",
        "        free(subarray[i]);\n",
        "    }\n",
        "    free(subarray);\n",
        "\n",
        "    return max;\n",
        "\n",
        "}\n",
        "int main(){\n",
        "\n",
        "    int test[100] = {\n",
        "        10,9,1,2,4,3,3,4,5,5,\n",
        "        10,9,1,2,4,3,3,4,5,5,\n",
        "        10,9,1,2,4,3,3,4,5,5,\n",
        "        10,9,1,2,4,3,3,4,5,5,\n",
        "        10,9,1,2,4,3,3,4,5,5,\n",
        "        10,9,1,2,4,3,3,4,5,5,\n",
        "        10,9,1,2,4,3,3,4,5,5,\n",
        "        10,9,1,2,4,3,3,4,5,5,\n",
        "        10,9,1,2,4,3,3,4,5,5,\n",
        "        10000,9,1,2,4,3,3,4,999,5\n",
        "        };\n",
        "    int n = 100;\n",
        "    printf(\"%d\", maximum_subarray_size(n, test));\n",
        "}"
      ],
      "metadata": {
        "colab": {
          "base_uri": "https://localhost:8080/"
        },
        "id": "05cf7OnsBww8",
        "outputId": "8cd47270-d03a-457b-cab7-4944d4df7856"
      },
      "execution_count": null,
      "outputs": [
        {
          "output_type": "stream",
          "name": "stdout",
          "text": [
            "79\n"
          ]
        }
      ]
    },
    {
      "cell_type": "code",
      "source": [
        "%%cu\n",
        "#include <stdio.h>\n",
        "#include <stdlib.h>\n",
        "#include <math.h>\n",
        "/*######### This one is more better, easy and don't wast space and time!!!!!!!!################*/\n",
        "\n",
        "int compare(const void *a, const void* b){\n",
        "    return ( *(int*)a - *(int*)b );\n",
        "}\n",
        "\n",
        "int maximum_subarray_size( int n, int *test){\n",
        "    int max = 0;\n",
        "    int len = 1;\n",
        "    qsort((void *)test, n, sizeof(int), compare);\n",
        "\n",
        "    for (int i = 1; i<n; i++){\n",
        "\n",
        "        if(test[i] == test[i-1]\n",
        "           || test[i] == test[i-1] +1){\n",
        "            len++;\n",
        "        }\n",
        "        else{\n",
        "            if(max < len) max = len;\n",
        "            len = 1;\n",
        "        }\n",
        "    }\n",
        "\n",
        "    return max;\n",
        "\n",
        "}\n",
        "int main(){\n",
        "\n",
        "    int test[100] =\n",
        "        {10,9,1,2,4,3,3,4,5,5,\n",
        "        10,9,1,2,4,3,3,4,5,5,\n",
        "        10,9,1,2,4,3,3,4,5,5,\n",
        "        10,9,1,2,4,3,3,4,5,5,\n",
        "        10,9,1,2,4,3,3,4,5,5,\n",
        "        10,9,1,2,4,3,3,4,5,5,\n",
        "        10,9,1,2,4,3,3,4,5,5,\n",
        "        10,9,1,2,4,3,3,4,5,5,\n",
        "        10,9,1,2,4,3,3,4,5,5,\n",
        "        10000,9,1,2,4,3,3,4,999,5\n",
        "        };\n",
        "    int n = 100;\n",
        "    printf(\"%d\", maximum_subarray_size(n, test));\n",
        "}\n"
      ],
      "metadata": {
        "colab": {
          "base_uri": "https://localhost:8080/"
        },
        "id": "blMaAmJ7HXVt",
        "outputId": "c7a21a29-8c74-485b-fda4-6320d67732c3"
      },
      "execution_count": null,
      "outputs": [
        {
          "output_type": "stream",
          "name": "stdout",
          "text": [
            "79\n"
          ]
        }
      ]
    },
    {
      "cell_type": "markdown",
      "source": [
        "### leecode 3.Longest Substring Without Repeating Characters\n",
        "\n",
        "Given a string s, find the length of the longest\n",
        "substring\n",
        " without repeating characters.\n",
        "\n",
        "\n",
        "\n",
        "Example 1:\n",
        "\n",
        "Input: s = \"abcabcbb\"\n",
        "Output: 3\n",
        "Explanation: The answer is \"abc\", with the length of 3.\n",
        "Example 2:\n",
        "\n",
        "Input: s = \"bbbbb\"\n",
        "Output: 1\n",
        "Explanation: The answer is \"b\", with the length of 1.\n",
        "Example 3:\n",
        "\n",
        "Input: s = \"pwwkew\"\n",
        "Output: 3\n",
        "Explanation: The answer is \"wke\", with the length of 3.\n",
        "Notice that the answer must be a substring, \"pwke\" is a subsequence and not a substring.\n",
        "\n"
      ],
      "metadata": {
        "id": "4HNiZa845jW5"
      }
    },
    {
      "cell_type": "code",
      "source": [
        "%%cu\n",
        "#include <stdio.h>\n",
        "#include <stdlib.h>\n",
        "#include <math.h>\n",
        "\n",
        "int lengthOfLongestSubstring(char * s){\n",
        "\n",
        "    int len = strlen(s);\n",
        "    int charIndex[128] = {-1};\n",
        "    int n = strlen(s);\n",
        "    int maxLength = 0;\n",
        "    int left = 0;\n",
        "\n",
        "    for (int right = 0; right< n; right++){\n",
        "        if(charIndex[s[right]]>= left){\n",
        "            left = charIndex[s[right]] +1;\n",
        "        }\n",
        "        charIndex[s[right]] = right;\n",
        "        len = right - left +1;\n",
        "        maxLength = (len > maxLength)? len:maxLength;\n",
        "    }\n",
        "    return maxLength;\n",
        "\n",
        "}\n",
        "\n",
        "int main(){\n",
        "\n",
        "    char s[] = \"abcabcbb\";\n",
        "    int i = 0;\n",
        "    i = lengthOfLongestSubstring(s);\n",
        "    printf(\"%d\", i);\n",
        "\n",
        "}\n"
      ],
      "metadata": {
        "colab": {
          "base_uri": "https://localhost:8080/"
        },
        "id": "z5KGg1NX5laH",
        "outputId": "74b7566c-6cce-45d5-8d8d-5a47974d685f"
      },
      "execution_count": null,
      "outputs": [
        {
          "output_type": "stream",
          "name": "stdout",
          "text": [
            "3\n"
          ]
        }
      ]
    },
    {
      "cell_type": "markdown",
      "source": [
        "#### Count for how many words in a sring\n",
        "\n",
        "Hyphens join two words into one.\n",
        "\n",
        "Example 1:\n",
        "\n",
        "Input: s = \"How many eggs are in a half-dozen, 13\"\n",
        "\n",
        "Output: 8\n",
        "\n",
        "\n"
      ],
      "metadata": {
        "id": "uRNA4PTA9AuM"
      }
    },
    {
      "cell_type": "code",
      "source": [
        "%%cu\n",
        "#include <stdio.h>\n",
        "#include <string.h>\n",
        "\n",
        "int howMany(char* s){\n",
        "    int len = strlen(s);\n",
        "    int words = 0;\n",
        "\n",
        "    for (int i = 0; i< len; i++){\n",
        "        if(s[i] == ' ' || s[i] == ',' || s[i] == '.' || s[i] == '!' || s[i] == '?'){\n",
        "            words++;\n",
        "        }\n",
        "    }\n",
        "\n",
        "    return words;\n",
        "}\n",
        "\n",
        "int main(){\n",
        "\n",
        "    char s[] = \"How many eggs are in a half-dozen, 13\";\n",
        "    int i = 0;\n",
        "    i = howMany(s);\n",
        "    printf(\"%d\", i);\n",
        "\n",
        "}"
      ],
      "metadata": {
        "colab": {
          "base_uri": "https://localhost:8080/"
        },
        "id": "FKOvErhr9mWk",
        "outputId": "42c245c5-8765-4053-be42-ea9375300043"
      },
      "execution_count": null,
      "outputs": [
        {
          "output_type": "stream",
          "name": "stdout",
          "text": [
            "8\n"
          ]
        }
      ]
    },
    {
      "cell_type": "markdown",
      "source": [
        "###15. 3Sum\n",
        "Given an integer array nums, return all the triplets [nums[i], nums[j], nums[k]] such that i != j, i != k, and j != k, and nums[i] + nums[j] + nums[k] == 0.\n",
        "\n",
        "Notice that the solution set must not contain duplicate triplets.\n",
        "\n",
        "\n",
        "\n",
        "Example 1:\n",
        "\n",
        "Input: nums = [-1,0,1,2,-1,-4]\n",
        "Output: [[-1,-1,2],[-1,0,1]]\n",
        "Explanation:\n",
        "nums[0] + nums[1] + nums[2] = (-1) + 0 + 1 = 0.\n",
        "nums[1] + nums[2] + nums[4] = 0 + 1 + (-1) = 0.\n",
        "nums[0] + nums[3] + nums[4] = (-1) + 2 + (-1) = 0.\n",
        "The distinct triplets are [-1,0,1] and [-1,-1,2].\n",
        "Notice that the order of the output and the order of the triplets does not matter."
      ],
      "metadata": {
        "id": "rE7VVo6gMsyW"
      }
    },
    {
      "cell_type": "code",
      "source": [
        "%%cu\n",
        "#include <stdio.h>\n",
        "#include <string.h>\n",
        "\n",
        "/**\n",
        " * Return an array of arrays of size *returnSize.\n",
        " * The sizes of the arrays are returned as *returnColumnSizes array.\n",
        " * Note: Both returned array and *columnSizes array must be malloced, assume caller calls free().\n",
        " */\n",
        "int compare(const void *a, const void *b) {\n",
        "    return (*(int *)a - *(int *)b);\n",
        "}\n",
        "\n",
        "int** threeSum(int* nums, int numsSize, int* returnSize, int** returnColumnSizes) {\n",
        "    int** result = NULL;\n",
        "\n",
        "    qsort((void *)nums, numsSize, sizeof(int), compare);\n",
        "    int a = 0;\n",
        "    *returnSize = 0;\n",
        "\n",
        "    for (int i = 0; i < numsSize - 2; i++) {\n",
        "        if (i > 0 && nums[i] == nums[i - 1]) continue;\n",
        "        int j = i + 1;\n",
        "        int k = numsSize - 1;\n",
        "\n",
        "        while (j < k) {\n",
        "            int sum = nums[i] + nums[j] + nums[k];\n",
        "            if (sum == 0) {\n",
        "                result = (int **)realloc(result, (*returnSize + 1) * sizeof(int *));\n",
        "                result[*returnSize] = (int *)malloc(3 * sizeof(int));\n",
        "                result[*returnSize][0] = nums[i];\n",
        "                result[*returnSize][1] = nums[j];\n",
        "                result[*returnSize][2] = nums[k];\n",
        "                (*returnSize)++;\n",
        "\n",
        "                while (j < k && nums[j] == nums[j + 1]) j++;\n",
        "                while (j < k && nums[k] == nums[k - 1]) k--;\n",
        "                j++;\n",
        "                k--;\n",
        "            } else if (sum < 0) {\n",
        "                j++;\n",
        "            } else {\n",
        "                k--;\n",
        "            }\n",
        "        }\n",
        "    }\n",
        "\n",
        "    *returnColumnSizes = (int *)malloc((*returnSize) * sizeof(int));\n",
        "    for (int i = 0; i < *returnSize; i++) {\n",
        "        (*returnColumnSizes)[i] = 3;\n",
        "    }\n",
        "    return result;\n",
        "}"
      ],
      "metadata": {
        "colab": {
          "base_uri": "https://localhost:8080/"
        },
        "id": "hscQrdS8Mt2J",
        "outputId": "429929c1-c6de-4fd9-a2dc-607acb87aec7"
      },
      "execution_count": null,
      "outputs": [
        {
          "output_type": "stream",
          "name": "stdout",
          "text": [
            "/tmp/tmpk5_vp5eb/c9c13b0b-2e46-4dc5-b987-1c9065135940.cu(17): warning #177-D: variable \"a\" was declared but never referenced\n",
            "\n",
            "/usr/bin/ld: /usr/lib/gcc/x86_64-linux-gnu/11/../../../x86_64-linux-gnu/Scrt1.o: in function `_start':\n",
            "(.text+0x1b): undefined reference to `main'\n",
            "collect2: error: ld returned 1 exit status\n",
            "\n"
          ]
        }
      ]
    },
    {
      "cell_type": "markdown",
      "source": [
        "### 206. Reverse Linked List\n",
        "Given the head of a singly linked list, reverse the list, and return the reversed list.\n",
        "\n"
      ],
      "metadata": {
        "id": "5Fagzo_jUItf"
      }
    },
    {
      "cell_type": "code",
      "source": [
        "%%cu\n",
        "#include <stdio.h>\n",
        "#include <string.h>\n",
        "\n",
        "/**\n",
        " * Definition for singly-linked list.\n",
        " * struct ListNode {\n",
        " *     int val;\n",
        " *     struct ListNode *next;\n",
        " * };\n",
        " */\n",
        "struct ListNode* reverseList(struct ListNode* head){\n",
        "    struct ListNode* current = head;\n",
        "    struct ListNode* new = NULL;\n",
        "    struct ListNode* next = NULL;\n",
        "\n",
        "    while(current){\n",
        "        next = current->next;\n",
        "        current->next = new;\n",
        "        new = current;\n",
        "        current = next;\n",
        "    }\n",
        "    return new;\n",
        "\n",
        "}"
      ],
      "metadata": {
        "colab": {
          "base_uri": "https://localhost:8080/"
        },
        "id": "YVBgChmAUIIM",
        "outputId": "af3e0181-9db7-4b31-def8-7de740ad6db2"
      },
      "execution_count": null,
      "outputs": [
        {
          "output_type": "stream",
          "name": "stdout",
          "text": [
            "/tmp/tmpqa48rgwv/5144e78d-30d3-4f35-89a7-430e2c0d0cd5.cu(13): error: expected an identifier\n",
            "\n",
            "/tmp/tmpqa48rgwv/5144e78d-30d3-4f35-89a7-430e2c0d0cd5.cu(17): error: pointer to incomplete class type \"ListNode\" is not allowed\n",
            "\n",
            "/tmp/tmpqa48rgwv/5144e78d-30d3-4f35-89a7-430e2c0d0cd5.cu(18): error: pointer to incomplete class type \"ListNode\" is not allowed\n",
            "\n",
            "/tmp/tmpqa48rgwv/5144e78d-30d3-4f35-89a7-430e2c0d0cd5.cu(18): error: expected a type specifier\n",
            "\n",
            "/tmp/tmpqa48rgwv/5144e78d-30d3-4f35-89a7-430e2c0d0cd5.cu(19): error: expected a type specifier\n",
            "\n",
            "/tmp/tmpqa48rgwv/5144e78d-30d3-4f35-89a7-430e2c0d0cd5.cu(22): error: expected a type specifier\n",
            "\n",
            "6 errors detected in the compilation of \"/tmp/tmpqa48rgwv/5144e78d-30d3-4f35-89a7-430e2c0d0cd5.cu\".\n",
            "\n"
          ]
        }
      ]
    },
    {
      "cell_type": "markdown",
      "source": [
        "### 92. Reverse Linked List II\n",
        "\n",
        "Given the head of a singly linked list and two integers left and right where left <= right, reverse the nodes of the list from position left to position right, and return the reversed list."
      ],
      "metadata": {
        "id": "JruhaAHxcR9p"
      }
    },
    {
      "cell_type": "code",
      "source": [
        "%%cu\n",
        "#include <stdio.h>\n",
        "#include <string.h>\n",
        "\n",
        "/**\n",
        " * Definition for singly-linked list.\n",
        " * struct ListNode {\n",
        " *     int val;\n",
        " *     struct ListNode *next;\n",
        " * };\n",
        " */\n",
        "struct ListNode* reverseBetween(struct ListNode* head, int left, int right){\n",
        "\n",
        "   if (!head || left == right) {\n",
        "        return head; // No need to reverse\n",
        "    }\n",
        "\n",
        "    struct ListNode* dummy= malloc(sizeof(struct ListNode));;\n",
        "    dummy->next = head;\n",
        "    struct ListNode* prev = dummy;\n",
        "    int i = 1;\n",
        "\n",
        "    while (i < left) {\n",
        "        prev = prev->next;\n",
        "        i++;\n",
        "    }\n",
        "\n",
        "    struct ListNode* current = prev->next;\n",
        "    struct ListNode* next = NULL;\n",
        "\n",
        "    while (i < right) {\n",
        "        next = current->next;\n",
        "        current->next = next->next;\n",
        "        next->next = prev->next;\n",
        "        prev->next = next;\n",
        "        i++;\n",
        "    }\n",
        "    return dummy->next;;\n",
        "}"
      ],
      "metadata": {
        "colab": {
          "base_uri": "https://localhost:8080/"
        },
        "id": "t8e6IasZcXim",
        "outputId": "dee486e1-2322-45e5-91f9-caff779e53d4"
      },
      "execution_count": null,
      "outputs": [
        {
          "output_type": "stream",
          "name": "stdout",
          "text": [
            "/tmp/tmp5q27dla3/c9eae5a0-38ac-4e85-9b5e-ed940af69e29.cu(17): error: incomplete type is not allowed\n",
            "\n",
            "/tmp/tmp5q27dla3/c9eae5a0-38ac-4e85-9b5e-ed940af69e29.cu(18): error: pointer to incomplete class type \"ListNode\" is not allowed\n",
            "\n",
            "/tmp/tmp5q27dla3/c9eae5a0-38ac-4e85-9b5e-ed940af69e29.cu(23): error: pointer to incomplete class type \"ListNode\" is not allowed\n",
            "\n",
            "/tmp/tmp5q27dla3/c9eae5a0-38ac-4e85-9b5e-ed940af69e29.cu(27): error: pointer to incomplete class type \"ListNode\" is not allowed\n",
            "\n",
            "/tmp/tmp5q27dla3/c9eae5a0-38ac-4e85-9b5e-ed940af69e29.cu(31): error: pointer to incomplete class type \"ListNode\" is not allowed\n",
            "\n",
            "/tmp/tmp5q27dla3/c9eae5a0-38ac-4e85-9b5e-ed940af69e29.cu(32): error: pointer to incomplete class type \"ListNode\" is not allowed\n",
            "\n",
            "/tmp/tmp5q27dla3/c9eae5a0-38ac-4e85-9b5e-ed940af69e29.cu(32): error: pointer to incomplete class type \"ListNode\" is not allowed\n",
            "\n",
            "/tmp/tmp5q27dla3/c9eae5a0-38ac-4e85-9b5e-ed940af69e29.cu(33): error: pointer to incomplete class type \"ListNode\" is not allowed\n",
            "\n",
            "/tmp/tmp5q27dla3/c9eae5a0-38ac-4e85-9b5e-ed940af69e29.cu(33): error: pointer to incomplete class type \"ListNode\" is not allowed\n",
            "\n",
            "/tmp/tmp5q27dla3/c9eae5a0-38ac-4e85-9b5e-ed940af69e29.cu(34): error: pointer to incomplete class type \"ListNode\" is not allowed\n",
            "\n",
            "/tmp/tmp5q27dla3/c9eae5a0-38ac-4e85-9b5e-ed940af69e29.cu(37): error: pointer to incomplete class type \"ListNode\" is not allowed\n",
            "\n",
            "11 errors detected in the compilation of \"/tmp/tmp5q27dla3/c9eae5a0-38ac-4e85-9b5e-ed940af69e29.cu\".\n",
            "\n"
          ]
        }
      ]
    },
    {
      "cell_type": "markdown",
      "source": [
        "### 141. Linked List Cycle\n",
        "Given head, the head of a linked list, determine if the linked list has a cycle in it.\n",
        "\n",
        "There is a cycle in a linked list if there is some node in the list that can be reached again by continuously following the next pointer. Internally, pos is used to denote the index of the node that tail's next pointer is connected to. Note that pos is not passed as a parameter.\n",
        "\n",
        "Return true if there is a cycle in the linked list. Otherwise, return false.\n",
        "\n"
      ],
      "metadata": {
        "id": "y0iJIRINhnrV"
      }
    },
    {
      "cell_type": "code",
      "source": [
        "%%cu\n",
        "#include <stdio.h>\n",
        "#include <string.h>\n",
        "\n",
        "/**\n",
        " * Definition for singly-linked list.\n",
        " * struct ListNode {\n",
        " *     int val;\n",
        " *     struct ListNode *next;\n",
        " * };\n",
        " */\n",
        "bool hasCycle(struct ListNode *head) {\n",
        "    struct ListNode* fast=head;\n",
        "    struct ListNode* slow=head;\n",
        "    while(fast != NULL && fast->next != NULL){\n",
        "        slow = slow->next;\n",
        "        fast = fast->next->next;\n",
        "        if(slow == fast) return 1;\n",
        "    }\n",
        "    return 0;\n",
        "}"
      ],
      "metadata": {
        "colab": {
          "base_uri": "https://localhost:8080/"
        },
        "id": "9wYGKXyUhrft",
        "outputId": "b6ca0628-2d6c-4f4f-d91b-f6345f059e6e"
      },
      "execution_count": null,
      "outputs": [
        {
          "output_type": "stream",
          "name": "stdout",
          "text": [
            "/tmp/tmp_ii0twq2/234a175d-1788-4790-9956-cf80d21d0267.cu(14): error: pointer to incomplete class type \"ListNode\" is not allowed\n",
            "\n",
            "/tmp/tmp_ii0twq2/234a175d-1788-4790-9956-cf80d21d0267.cu(15): error: pointer to incomplete class type \"ListNode\" is not allowed\n",
            "\n",
            "/tmp/tmp_ii0twq2/234a175d-1788-4790-9956-cf80d21d0267.cu(16): error: pointer to incomplete class type \"ListNode\" is not allowed\n",
            "\n",
            "3 errors detected in the compilation of \"/tmp/tmp_ii0twq2/234a175d-1788-4790-9956-cf80d21d0267.cu\".\n",
            "\n"
          ]
        }
      ]
    },
    {
      "cell_type": "markdown",
      "source": [
        "### 142. Linked List Cycle II\n",
        "Given the head of a linked list, return the node where the cycle begins. If there is no cycle, return null.\n",
        "\n",
        "There is a cycle in a linked list if there is some node in the list that can be reached again by continuously following the next pointer. Internally, pos is used to denote the index of the node that tail's next pointer is connected to (0-indexed). It is -1 if there is no cycle. Note that pos is not passed as a parameter.\n",
        "\n",
        "Do not modify the linked list.\n"
      ],
      "metadata": {
        "id": "iuJ7PGAQ1l9E"
      }
    },
    {
      "cell_type": "code",
      "source": [
        "%%cu\n",
        "#include <stdio.h>\n",
        "#include <string.h>\n",
        "/**\n",
        " * Definition for singly-linked list.\n",
        " * struct ListNode {\n",
        " *     int val;\n",
        " *     struct ListNode *next;\n",
        " * };\n",
        " */\n",
        "struct ListNode *detectCycle(struct ListNode *head) {\n",
        "    struct ListNode* fast = head;\n",
        "    struct ListNode* slow = head;\n",
        "\n",
        "    while(fast && fast->next){\n",
        "        slow = slow->next;\n",
        "        fast = fast->next->next;\n",
        "\n",
        "        if(fast == slow){\n",
        "            break;\n",
        "        }\n",
        "\n",
        "    }\n",
        "    if(!(fast && fast->next)) return NULL;\n",
        "    while(head != slow){\n",
        "        head = head->next;\n",
        "        slow = slow->next;\n",
        "    }\n",
        "    return head;\n",
        "\n",
        "}"
      ],
      "metadata": {
        "colab": {
          "base_uri": "https://localhost:8080/"
        },
        "id": "ad17O10v1pQ1",
        "outputId": "793703f6-2276-4428-d707-77b90db2c838"
      },
      "execution_count": null,
      "outputs": [
        {
          "output_type": "stream",
          "name": "stdout",
          "text": [
            "/tmp/tmpigstl0vi/b3823b2d-5f88-4f43-bc12-ffd53f64d647.cu(14): error: pointer to incomplete class type \"ListNode\" is not allowed\n",
            "\n",
            "/tmp/tmpigstl0vi/b3823b2d-5f88-4f43-bc12-ffd53f64d647.cu(15): error: pointer to incomplete class type \"ListNode\" is not allowed\n",
            "\n",
            "/tmp/tmpigstl0vi/b3823b2d-5f88-4f43-bc12-ffd53f64d647.cu(16): error: pointer to incomplete class type \"ListNode\" is not allowed\n",
            "\n",
            "/tmp/tmpigstl0vi/b3823b2d-5f88-4f43-bc12-ffd53f64d647.cu(23): error: pointer to incomplete class type \"ListNode\" is not allowed\n",
            "\n",
            "/tmp/tmpigstl0vi/b3823b2d-5f88-4f43-bc12-ffd53f64d647.cu(25): error: pointer to incomplete class type \"ListNode\" is not allowed\n",
            "\n",
            "/tmp/tmpigstl0vi/b3823b2d-5f88-4f43-bc12-ffd53f64d647.cu(26): error: pointer to incomplete class type \"ListNode\" is not allowed\n",
            "\n",
            "6 errors detected in the compilation of \"/tmp/tmpigstl0vi/b3823b2d-5f88-4f43-bc12-ffd53f64d647.cu\".\n",
            "\n"
          ]
        }
      ]
    },
    {
      "cell_type": "markdown",
      "source": [
        "### 88. Merge Sorted Array\n",
        "You are given two integer arrays nums1 and nums2, sorted in non-decreasing order, and two integers m and n, representing the number of elements in nums1 and nums2 respectively.\n",
        "\n",
        "Merge nums1 and nums2 into a single array sorted in non-decreasing order.\n",
        "\n",
        "The final sorted array should not be returned by the function, but instead be stored inside the array nums1. To accommodate this, nums1 has a length of m + n, where the first m elements denote the elements that should be merged, and the last n elements are set to 0 and should be ignored. nums2 has a length of n.\n",
        "\n"
      ],
      "metadata": {
        "id": "Xmbcp1eN4AmN"
      }
    },
    {
      "cell_type": "code",
      "source": [
        "%%cu\n",
        "#include <stdio.h>\n",
        "#include <string.h>\n",
        "void merge(int* nums1, int nums1Size, int m, int* nums2, int nums2Size, int n){\n",
        "    int i = m-1;\n",
        "    int j = n-1;\n",
        "\n",
        "    while(i>=0 && j>=0){\n",
        "        if(nums1[i] > nums2[j]){\n",
        "            nums1[i+j+1] = nums1[i];\n",
        "            i--;\n",
        "        }\n",
        "        else{\n",
        "            nums1[i+j+1] = nums2[j];\n",
        "            j--;\n",
        "        }\n",
        "    }\n",
        "\n",
        "    while(j>=0){\n",
        "        nums1[i+j+1] = nums2[j];\n",
        "        j--;\n",
        "    }\n",
        "}"
      ],
      "metadata": {
        "colab": {
          "base_uri": "https://localhost:8080/"
        },
        "id": "1TzAy21I4DTk",
        "outputId": "06323a73-d828-451f-a41f-7de0840d9a19"
      },
      "execution_count": null,
      "outputs": [
        {
          "output_type": "stream",
          "name": "stdout",
          "text": [
            "/usr/bin/ld: /usr/lib/gcc/x86_64-linux-gnu/11/../../../x86_64-linux-gnu/Scrt1.o: in function `_start':\n",
            "(.text+0x1b): undefined reference to `main'\n",
            "collect2: error: ld returned 1 exit status\n",
            "\n"
          ]
        }
      ]
    },
    {
      "cell_type": "markdown",
      "source": [
        "#### 27. Remove Element\n",
        "Given an integer array nums and an integer val, remove all occurrences of val in nums in-place. The order of the elements may be changed. Then return the number of elements in nums which are not equal to val.\n",
        "\n",
        "Input: nums = [3,2,2,3], val = 3\n",
        "Output: 2, nums = [2,2,_,_]\n",
        "Explanation: Your function should return k = 2, with the first two elements of nums being 2.\n",
        "It does not matter what you leave beyond the returned k (hence they are underscores)."
      ],
      "metadata": {
        "id": "6YoKgCCtTm8T"
      }
    },
    {
      "cell_type": "code",
      "source": [
        "%%cu\n",
        "\n",
        "int removeElement(int* nums, int numsSize, int val){\n",
        "    int index = 0;\n",
        "    for(int i =0;i<numsSize;i++){\n",
        "        if(nums[i] != val){\n",
        "            nums[index] = nums[i];\n",
        "            index++;\n",
        "        }\n",
        "    }\n",
        "    return index;\n",
        "}"
      ],
      "metadata": {
        "id": "wVhyRegFTvPr",
        "outputId": "8f19ebf4-d5ff-42c3-eac8-85dad9c4d9a9",
        "colab": {
          "base_uri": "https://localhost:8080/"
        }
      },
      "execution_count": null,
      "outputs": [
        {
          "output_type": "stream",
          "name": "stdout",
          "text": [
            "/usr/bin/ld: /usr/lib/gcc/x86_64-linux-gnu/11/../../../x86_64-linux-gnu/Scrt1.o: in function `_start':\n",
            "(.text+0x1b): undefined reference to `main'\n",
            "collect2: error: ld returned 1 exit status\n",
            "\n"
          ]
        }
      ]
    },
    {
      "cell_type": "markdown",
      "source": [
        "### Prepare for Roblox OA\n",
        "#### 1.  max occurring character"
      ],
      "metadata": {
        "id": "GA5_PdKJ3cYE"
      }
    },
    {
      "cell_type": "code",
      "source": [
        "%%cu\n",
        "#include <stdio.h>\n",
        "#include <string.h>\n",
        "\n",
        "#define ASCII_SIZE 256\n",
        "\n",
        "char getMaxOccurringChar(char* str){\n",
        "    int count[ASCII_SIZE] = {0};\n",
        "    int len = strlen(str);\n",
        "    int max = 0;\n",
        "    char result;\n",
        "\n",
        "    for(int i = 0; i <len; i++){\n",
        "        count[str[i]]++;\n",
        "        if(max < count[str[i]]){\n",
        "            max = count[str[i]];\n",
        "            result = str[i];\n",
        "        }\n",
        "    }\n",
        "\n",
        "    return result;\n",
        "\n",
        "}\n",
        "\n",
        "int main(){\n",
        "    char c = getMaxOccurringChar(\"aaabbbbbbbccccc\");\n",
        "    printf(\"most occuring char is %c\", c);\n",
        "\n",
        "}"
      ],
      "metadata": {
        "colab": {
          "base_uri": "https://localhost:8080/"
        },
        "id": "JGxVQ9ev3bDc",
        "outputId": "24ff1ad2-6906-46da-aa7a-a2e27bc9d847"
      },
      "execution_count": null,
      "outputs": [
        {
          "output_type": "stream",
          "name": "stdout",
          "text": [
            "most occuring char is b\n"
          ]
        }
      ]
    },
    {
      "cell_type": "markdown",
      "source": [
        "#### 2. consecutive sum\n",
        "\n",
        "Approach: The idea is to represent N as a sequence of length L+1 as:\n",
        "\n",
        "N = a + (a+1) + (a+2) + .. + (a+L)\n",
        "=> N = (L+1)*a + (L*(L+1))/2\n",
        "=> a = (N- L*(L+1)/2)/(L+1)\n",
        "\n",
        "We substitute the values of L starting from 1 till L*(L+1)/2 < N\n",
        "If we get ‘a’ as a natural number then the solution should be counted."
      ],
      "metadata": {
        "id": "qV8x6ZC6ANnj"
      }
    },
    {
      "cell_type": "code",
      "source": [
        "%%cu\n",
        "#include <stdio.h>\n",
        "#include <string.h>\n",
        "\n",
        "int countConsecutive(int N){\n",
        "    int count = 0;\n",
        "    for (int L=0; L*(L+1) < 2*N;L++ ){\n",
        "        double a = (N- L*(L+1)/2)/(L+1);\n",
        "        if(a == int(a)){\n",
        "            count++;\n",
        "        }\n",
        "    }\n",
        "    return count;\n",
        "\n",
        "}\n",
        "\n",
        "int main(){\n",
        "\n",
        "   int n = countConsecutive(1000);\n",
        "   printf(\"the consecutive of 1000 is %d\", n);\n",
        "}"
      ],
      "metadata": {
        "colab": {
          "base_uri": "https://localhost:8080/"
        },
        "id": "KgABIYDm6ZZP",
        "outputId": "6739c5e1-8c66-45e1-80b2-d5766385ee2d"
      },
      "execution_count": null,
      "outputs": [
        {
          "output_type": "stream",
          "name": "stdout",
          "text": [
            "the consecutive of 1000 is 45\n"
          ]
        }
      ]
    },
    {
      "cell_type": "markdown",
      "source": [
        "#### 3. Count the Number of Beautiful Subarrays\n",
        "\n",
        "You are given a 0-indexed integer array nums. In one operation, you can:\n",
        "\n",
        "Choose two different indices i and j such that 0 <= i, j < nums.length.\n",
        "Choose a non-negative integer k such that the kth bit (0-indexed) in the binary representation of nums[i] and nums[j] is 1.\n",
        "Subtract 2k from nums[i] and nums[j].\n",
        "A subarray is beautiful if it is possible to make all of its elements equal to 0 after applying the above operation any number of times.\n",
        "\n",
        "Return the number of beautiful subarrays in the array nums.\n",
        "\n",
        "A subarray is a contiguous non-empty sequence of elements within an array.\n",
        "\n",
        "Intuition\n",
        "\n",
        "Similar to the problem to count the subarrays with sum = k.\n",
        "We can record the prefix sum to solve it.\n",
        "\n",
        "Here we are counting the subarrays with xor = 0.\n",
        "we can record the prefix xor to solve it.\n",
        "\n",
        "Explanation\n",
        "pre records the prefix xor,\n",
        "where pre[i] = pre[i-1] ^ A[i].\n",
        "\n",
        "dp counts the frequency for prefix different value.\n",
        "At first pre = 0,\n",
        "so we initilize dp[0] = 1.\n",
        "\n",
        "As we iterate every A[i],\n",
        "we update pre ^= A[i],\n",
        "the number of current dp[pre],\n",
        "means the number prefix array with xor is pre,\n",
        "corresponding the number of subarray ending at A[j] with xor = pre ^ pre = 0.\n",
        "so we update the result res += dp[pre] and dp[pre] += 1\n",
        "\n",
        "Finally we return res.\n",
        "\n",
        "\n",
        "Complexity\n",
        "Time O(n)\n",
        "Space O(n)\n",
        "\n",
        "\n"
      ],
      "metadata": {
        "id": "63O-ubi-DPec"
      }
    },
    {
      "cell_type": "code",
      "source": [
        "%%cu\n",
        "#include <stdio.h>\n",
        "#include <string.h>\n",
        "\n",
        "long long beautifulSubarrays(int* nums, int numsSize){\n",
        "  long long res = 0, pre = 0;\n",
        "    int* dp = (int*)calloc(10000000 + 1, sizeof(int));\n",
        "\n",
        "    dp[0] = 1;\n",
        "\n",
        "\n",
        "    for (int i = 0; i < numsSize; i++) {\n",
        "        pre ^= nums[i];\n",
        "        res += dp[pre]++;\n",
        "    }\n",
        "\n",
        "    free(dp);\n",
        "    return res;\n",
        "}\n",
        "\n",
        "int main(){\n",
        "    int num[] ={53560,39599,91915,41514,36074,93184,13326,7858,62263,69225,30257,22729,48112,39973,55980,30978,94182,6020,59638,6850,64225,90755,84477,66785,89733,25271,17321,47256,32781,42349,91284,8771,53761,17619,2277,83744,23681,41281,89871,32399,25432,72585,37938,35509,54452,72014,79301,48587,61283,26141,56381,24715,13743,77156,15289,68723,46895,91917,71604,62626,99095,9320,88908,37586,53692,93621,24526,31342,31408,69718,92251,69333,15908,97919,37906,91416,33389,44155,6994,15847,72828,37822,95599,17955,98798,59477,49361,63201,59371,44755,73234,73119,23075,22383,78108,51370,46710,98477,28555,21238,99388,92527,24567,62943,56132,47185,52184,68250,26606,78464,90818,96987,91453,30948,69638,96786,30899,21722,9668,14420,30055,78627,92884,59325,16780,28259,40128,82394,41599,83404,28917,81177,15010,51516,90054,97716,94815,29573,1937,74061,70180,32717,90836,33832,50674,69874,42408,60162,84217,2902,35170,69088,57209,64930,88269,35110,81085,97954,18938,58514,50688,84326,48809,13816,81657,9462,65187,77872,51834,36837,85803,77797,56271,54150,12101,8690,42218,59166,51491,66367,76428,44687,59234,69234,29828,62566,18153,78055,83188,20254,15699,89593,34139,43080,44192,19424,5611,20061,35886,85660,74738,39991,89394,63063,91417,92652,59422,1088,75432,45177,32705,19278,68293,21561,63588,60195,41243,23164,33790,63391,82096,73585,6432,9008,52145,61923,3415,76522,63898,6011,27918,52042,16273,30476,27529,93308,63757,64470,19219,96975,94599,93995,20967,24279,23233,95819,79146,69480,95108,51218,5254,17783,10139,68168,82162,93187,55511,23812,58393,16018,39894,64479,95284,46619,88275,14107,20021,54881,79381,51327,14582,80826,90425,40336,13174,51890,78521,79330,19141,57885,18903,19621,60287,31864,19380,77785,77425,77191,29349,95198,76195,27895,90291,86563,91503,20497,58159,70532,67725,34135,54310,37184,94538,60649,11815,89316,92088,61568,97504,52908,22082,18855,61783,66706,54773,59869,95836,96939,88887,32451,9632,55785,44230,20834,74400,12192,70804,90585,49511,12652,34789,79032,19642,20018,76041,91445,44096,49050,75038,79040,32001,71195,77063,79928,49767,50521,70461,79337,44003,69816,21885,32623,68113,65940,38501,51204,3241,21294,26871,83797,62291,12103,86956,62885,60872,68227,97107,15365,22270,2843,4945,15993,13091,35756,12658,41348,72822,86599,20234,54775,98671,67620,92012,34919,60740,22410,87294,78800,39409,13516,83860,89476,58157,95549,87714,38861,63738,77990,58302,79402,1482,252,13314,3558,98503,84458,53789,58556,81788,61515,28595,61206,37559,38681,77549,14204,52106,2072,76802,23183,48184,4374,87529,92190,72232,10175,26883,69447,59852,96876,96299,99375,25744,81481,23256,93154,3439,91573,77410,84869,39687,14049,95498,41200,38096,9253,55455,1474,43502,90674,58381,10778,89400,26634,98463,61819,21997,65135,42669,531,12032,55270,55602,28972,30660,1603,87787,93230,66132,84472,42978,98370,19774,63796,80158,56668,41305,23649,34247,18457,24667,81973,98176,15510,59207,75436,65888,82340,21421,60689,838,40627,34369,31159,6623,87300,54533,51831,41778,22707,81663,67642,58986,4783,79663,25923,59094,96979,72475,27048,41412,84755,15089,18155,17975,66902,47881,94817,38651,11260,20223,76566,48031,59758,80843,3067,16799,92195,83400,27953,63127,53910,48081,9181,51537,78951,4844,8787,53641,62871,28085,65855,37739,71084,99943,72558,30039,59702,74122,77762,19176,3400,38778,59807,26896,29803,59988,48808,16461,88194,37101,55646,11162,99435,97805,64964,11008,53391,17453,72163,39020,70009,24609,46667,54548,10793,21808,25186,90032,23741,17228,17308,41332,15525,3844,22869,50662,80500,56920,18983,11644,99531,45501,89252,73541,49965,99197,36118,55870,24271,80127,97807,7409,90348,2261,52662,75614,45442,72316,42779,48321,69882,59955,84681,79198,60404,12522,6450,45758,60078,23322,60979,45837,86810,42908,38566,3985,21570,35378,7916,82704,97925,82729,9919,24208,2604,65452,15208,43030,92059,2017,57594,60507,19044,9979,7786,17016,49927,26719,36472,49656,15009,64414,24263,53348,84784,37928,99678,39327,67249,2419,37623,77632,30912,1672,82297,16360,82202,26989,42007,66792,65093,35242,40180,58970,35663,44693,93250,14710,81410,34599,86953,47868,91175,38714,34063,41179,22129,3756,91442,81974,36672,29642,99524,53696,37940,41528,21024,9478,28531,77707,71178,90006,8403,92578,98130,95558,48146,92206,61132,43722,13312,22860,46664,58643,28849,68599,82115,5369,60560,54231,91298,45509,48529,40362,84978,44657,57484,73584,93017,6111,8005,21958,96104,81139,6962,14177,17061,19041,47,91126,48696,78809,52733,42574,51502,31840,52439,66841,48449,21708,2794,50767,8770,98083,83875,95977,80592,2188,29375,5728,12186,30669,13175,65201,51949,32991,54925,522,67368,19945,42875,33210,44366,39177,38074,43847,14763,22513,39143,81094,57673,38716,77027,8613,37761,28357,52104,95583,82646,91713,71138,94184,6713,53991,73928,57477,10427,82502,24058,88201,27622,15593,4575,44564,68218,8393,88558,1235,55960,66045,30370,96776,6654,61502,38286,45866,72700,94831,43653,83389,76110,49770,23122,74887,5064,81548,3497,14430,30195,79075,97176,45819,78839,62642,16688,66738,28818,1350,14307,82051,32124,87370,63842,97600,34366,96577,31591,27059,28299,9913,35643,27230,51764,87298,4122,11853,90549,28249,44188,8942,26165,51694,91453,58394,98178,72354,22888,45718,84776,64956};\n",
        "    int n = beautifulSubarrays(num, sizeof(num));\n",
        "    printf(\"the beautifulSubarrays number is %d\", n);\n",
        "}\n",
        "/*\n",
        "# Maybe use python instead:\n",
        "class Solution(object):\n",
        "  def beautifulSubarrays(self, A):\n",
        "    dp = Counter({0: 1})\n",
        "    res = pre = 0\n",
        "    for a in A:\n",
        "        pre ^= a\n",
        "        res += dp[pre]\n",
        "        dp[pre] += 1\n",
        "    return res\n",
        "*/"
      ],
      "metadata": {
        "colab": {
          "base_uri": "https://localhost:8080/"
        },
        "id": "crRBW71vEDA5",
        "outputId": "a710a006-acbb-49fc-e444-15bd245d9d48"
      },
      "execution_count": null,
      "outputs": [
        {
          "output_type": "stream",
          "name": "stdout",
          "text": [
            "\n"
          ]
        }
      ]
    },
    {
      "cell_type": "markdown",
      "source": [
        "####4.Break a Palindrome\n",
        "\n",
        "Given a palindromic string of lowercase English letters palindrome, replace exactly one character with any lowercase English letter so that the resulting string is not a palindrome and that it is the lexicographically smallest one possible.\n",
        "\n",
        "Return the resulting string. If there is no way to replace a character to make it not a palindrome, return an empty string.\n",
        "\n",
        "A string a is lexicographically smaller than a string b (of the same length) if in the first position where a and b differ, a has a character strictly smaller than the corresponding character in b. For example, \"abcc\" is lexicographically smaller than \"abcd\" because the first position they differ is at the fourth character, and 'c' is smaller than 'd'.\n",
        "\n",
        "\n",
        "\n",
        "Example 1:\n",
        "\n",
        "Input: palindrome = \"abccba\"\n",
        "Output: \"aaccba\"\n",
        "Explanation: There are many ways to make \"abccba\" not a palindrome, such as \"zbccba\", \"aaccba\", and \"abacba\".\n",
        "Of all the ways, \"aaccba\" is the lexicographically smallest."
      ],
      "metadata": {
        "id": "rS3akueivdv2"
      }
    },
    {
      "cell_type": "code",
      "source": [
        "%%cu\n",
        "#include <stdio.h>\n",
        "#include <string.h>\n",
        "\n",
        "char * breakPalindrome(char * palindrome){\n",
        "    int len = strlen(palindrome);\n",
        "\n",
        "    printf(\"enter len = %d\", len);\n",
        "    if (len <= 1) {\n",
        "        return \"\"; // Return an empty string\n",
        "    }\n",
        "\n",
        "    for (int i = 0; i < len / 2; i++) {\n",
        "        if (palindrome[i] != 'a') {\n",
        "            palindrome[i] = 'a';\n",
        "            return palindrome;\n",
        "        }\n",
        "    }\n",
        "\n",
        "    // If the loop completes without replacing any character, replace the last character with 'b'\n",
        "    palindrome[len - 1] = 'b';\n",
        "    return palindrome;\n",
        "}\n",
        "\n",
        "int main(){\n",
        "    char * c =\"bab\";\n",
        "    char * result =breakPalindrome(c);\n",
        "    printf(\"result is %s\\n\", result);\n",
        "}"
      ],
      "metadata": {
        "colab": {
          "base_uri": "https://localhost:8080/"
        },
        "id": "3uGC0qYJvafX",
        "outputId": "893066d3-04ab-41aa-d45d-997e87491f8b"
      },
      "execution_count": null,
      "outputs": [
        {
          "output_type": "stream",
          "name": "stdout",
          "text": [
            "\n"
          ]
        }
      ]
    },
    {
      "cell_type": "markdown",
      "source": [
        "####5. most frequent substring\n",
        "\n",
        "1297. Maximum Number of Occurrences of a Substring\n",
        "Medium\n",
        "Topics\n",
        "Companies\n",
        "Hint\n",
        "Given a string s, return the maximum number of occurrences of any substring under the following rules:\n",
        "\n",
        "The number of unique characters in the substring must be less than or equal to maxLetters.\n",
        "The substring size must be between minSize and maxSize inclusive.\n"
      ],
      "metadata": {
        "id": "2z6DiTZ-57_2"
      }
    },
    {
      "cell_type": "code",
      "source": [
        "%%cu\n",
        "#include <stdio.h>\n",
        "#include <string.h>\n",
        "#define MAX_SIZE 26\n",
        "\n",
        "\n",
        "int maxFreq(char * s, int maxLetters, int minSize, int maxSize){\n",
        "int n = strlen(s);\n",
        "\n",
        "    // Track the substring count\n",
        "    int track = 0;\n",
        "\n",
        "    // Count the unique characters in the window\n",
        "    int unique_count = 0;\n",
        "\n",
        "    // Character frequency count\n",
        "    int freq_count[MAX_SIZE] ={0};\n",
        "\n",
        "\n",
        "    // First and last pointers of the window\n",
        "    int first = 0;\n",
        "    int last = 0;\n",
        "\n",
        "    // Maximum number of substrings with the given condition\n",
        "    int result = 0;\n",
        "\n",
        "    while (last < n) {\n",
        "        // Increment the frequency of the character and unique character count if it's a new character in the window\n",
        "        if (++freq_count[s[last] - 'a'] == 1) {\n",
        "            unique_count++;\n",
        "        }\n",
        "        last++;\n",
        "\n",
        "        // Check if the window has a unique character count greater than maxLetters\n",
        "        // or the window size is greater than minSize, then shrink the window by\n",
        "        // incrementing 'first' and updating the frequency count and unique character count\n",
        "        while (unique_count > maxLetters || (last - first) > minSize) {\n",
        "            if (--freq_count[s[first] - 'a'] == 0) {\n",
        "                unique_count--;\n",
        "            }\n",
        "            first++;\n",
        "        }\n",
        "\n",
        "        // The valid condition is that the current window has a length equal to minSize,\n",
        "        // so update the result\n",
        "        if ((last - first) == minSize) {\n",
        "            char substring[minSize + 1];\n",
        "            strncpy(substring, &s[first], minSize);\n",
        "            substring[minSize] = '\\0';\n",
        "            track =1;\n",
        "            for(int i=first+1;i<n-minSize+1;i++){\n",
        "                // printf(\"substring=%s,i=%d\\n\",substring,i);\n",
        "                if(strncmp(substring, &s[i],minSize) == 0)\n",
        "                    track++;\n",
        "            }\n",
        "            // printf(\"substring=%s, track=%d\\n\",substring,track);\n",
        "            result = result > track ? result : track;\n",
        "        }\n",
        "    }\n",
        "\n",
        "    return result;\n",
        "}\n",
        "\n",
        "/*\n",
        "# Maybe use python instead:\n",
        "# class Solution(object):\n",
        "    def maxFreq(self, s, maxLetters, minSize, maxSize):\n",
        "        hashmap = {}\n",
        "        for i in range(len(s)-minSize+1):\n",
        "            hashmap[s[i:i+minSize]] = 0\n",
        "        for i in range(len(s)-minSize+1):\n",
        "            hashmap[s[i:i+minSize]] += 1\n",
        "        ans = 0\n",
        "        for key, val in hashmap.items():\n",
        "            if len(set(key)) <= maxLetters:\n",
        "                ans = max(ans, val)\n",
        "        return ans\n",
        "*/"
      ],
      "metadata": {
        "id": "FnIsnKha6Dol"
      },
      "execution_count": null,
      "outputs": []
    },
    {
      "cell_type": "markdown",
      "source": [
        "####6. Social Network\n",
        "\n",
        "547. Number of Provinces\n",
        "\n",
        "Medium\n",
        "Topics\n",
        "Companies\n",
        "\n",
        "There are n cities. Some of them are connected, while some are not. If city a is connected directly with city b, and city b is connected directly with city c, then city a is connected indirectly with city c.\n",
        "\n",
        "A province is a group of directly or indirectly connected cities and no other cities outside of the group.\n",
        "\n",
        "You are given an n x n matrix isConnected where isConnected[i][j] = 1 if the ith city and the jth city are directly connected, and isConnected[i][j] = 0 otherwise.\n",
        "\n",
        "Return the total number of provinces.\n",
        "\n"
      ],
      "metadata": {
        "id": "kiISVTn_edlD"
      }
    },
    {
      "cell_type": "code",
      "source": [
        "%%cu\n",
        "#define MAX_CITIES 200\n",
        "void dfs(int city, int n, int** isConnected, bool* visited){\n",
        "    visited[city] = true;\n",
        "    for (int i = 0; i < n; i++) {\n",
        "        if (isConnected[city][i] == 1 && !visited[i]) {\n",
        "            dfs(i, n, isConnected, visited);\n",
        "        }\n",
        "    }\n",
        "}\n",
        "\n",
        "int findCircleNum(int** isConnected, int isConnectedSize, int* isConnectedColSize){\n",
        "    bool vistedCities[MAX_CITIES] = {false};\n",
        "    int provinces =0;\n",
        "\n",
        "    for(int city=0;city <isConnectedSize;city++){\n",
        "        if(!vistedCities[city]){\n",
        "            provinces++;\n",
        "            dfs(city, isConnectedSize, isConnected, vistedCities);\n",
        "        }\n",
        "    }\n",
        "    return provinces;\n",
        "}"
      ],
      "metadata": {
        "id": "Lb8_V3UHemZ7"
      },
      "execution_count": null,
      "outputs": []
    },
    {
      "cell_type": "markdown",
      "source": [
        "####7.first repeated word\n",
        "\n"
      ],
      "metadata": {
        "id": "PcO4ZB5DjF3L"
      }
    },
    {
      "cell_type": "code",
      "source": [
        "%%cu\n",
        "#include <stdio.h>\n",
        "#include <string.h>\n",
        "#include <stdbool.h>\n",
        "\n",
        "#define MAX_WORD_LENGTH 50  // Adjust this if needed\n",
        "\n",
        "// Function to compare two words\n",
        "bool areWordsEqual(const char *word1, const char *word2) {\n",
        "    return strcmp(word1, word2) == 0;\n",
        "}\n",
        "\n",
        "// Function to find the first repeated word in a string\n",
        "char* findFirstRepeatedWord(char *input) {\n",
        "    char *words[MAX_WORD_LENGTH];\n",
        "    char *word = strtok(input, \" \\t\\n\\r.,;?!\");\n",
        "\n",
        "    while (word != NULL) {\n",
        "        for (int i = 0; i < MAX_WORD_LENGTH; i++) {\n",
        "            if (words[i] == NULL) {\n",
        "                break;  // No more words to compare\n",
        "            }\n",
        "\n",
        "            if (areWordsEqual(word, words[i])) {\n",
        "                return word;  // Found a repeated word\n",
        "            }\n",
        "        }\n",
        "\n",
        "        // Add the current word to the list\n",
        "        for (int i = MAX_WORD_LENGTH - 1; i > 0; i--) {\n",
        "            words[i] = words[i - 1];\n",
        "        }\n",
        "        words[0] = word;\n",
        "\n",
        "        word = strtok(NULL, \" \\t\\n\\r.,;?!\");\n",
        "    }\n",
        "\n",
        "    return NULL;  // No repeated words found\n",
        "}\n",
        "\n",
        "int main() {\n",
        "    char input[] = \"This is a simple simple example.\";\n",
        "    char *repeatedWord = findFirstRepeatedWord(input);\n",
        "\n",
        "    if (repeatedWord != NULL) {\n",
        "        printf(\"The first repeated word is: %s\\n\", repeatedWord);\n",
        "    } else {\n",
        "        printf(\"No repeated words found.\\n\");\n",
        "    }\n",
        "\n",
        "    return 0;\n",
        "}\n",
        "\n",
        "\n",
        "\n"
      ],
      "metadata": {
        "colab": {
          "base_uri": "https://localhost:8080/"
        },
        "id": "FwBAIZymkcyq",
        "outputId": "6375fed4-179c-4126-e432-baa2938201ef"
      },
      "execution_count": null,
      "outputs": [
        {
          "output_type": "stream",
          "name": "stdout",
          "text": [
            "The first repeated word is: simple\n",
            "\n"
          ]
        }
      ]
    },
    {
      "cell_type": "markdown",
      "source": [
        "####8. segment words in string\n",
        "\n",
        "\n"
      ],
      "metadata": {
        "id": "FH1nc9aXYu4y"
      }
    },
    {
      "cell_type": "code",
      "source": [
        "%%cu\n",
        "#include <stdio.h>\n",
        "#include <string.h>\n",
        "#include <stdbool.h>\n",
        "int countSegments(char *s) {\n",
        "    int len= strlen(s);\n",
        "        if(s==\"\"){\n",
        "            return 0;\n",
        "        }\n",
        "        int c=0;\n",
        "        for(int i=0;i<len;i++){\n",
        "            if((s[i] != ' ') && ((s[i+1] == ' ')||(s[i+1]=='\\0'))){\n",
        "                c++;\n",
        "            }\n",
        "        }\n",
        "        return c;\n",
        "}\n",
        "\n",
        "\n"
      ],
      "metadata": {
        "id": "oV3UnCSIZXgs"
      },
      "execution_count": null,
      "outputs": []
    },
    {
      "cell_type": "markdown",
      "source": [
        "####9 Prefix To Postfix.\n",
        "\n",
        "\n"
      ],
      "metadata": {
        "id": "F67h3cYxt27Q"
      }
    },
    {
      "cell_type": "code",
      "source": [
        "#include <stdio.h>\n",
        "#include <stdlib.h>\n",
        "#include <stdbool.h>\n",
        "#include <string.h>\n",
        "#include <ctype.h>\n",
        "\n",
        "#define MAX_SIZE 100\n",
        "\n",
        "typedef struct {\n",
        "    char data[MAX_SIZE];\n",
        "    int top;\n",
        "} Stack;\n",
        "\n",
        "void init(Stack *stack) {\n",
        "    stack->top = -1;\n",
        "}\n",
        "\n",
        "bool isEmpty(Stack *stack) {\n",
        "    return stack->top == -1;\n",
        "}\n",
        "\n",
        "void push(Stack *stack, char *item) {\n",
        "    if (stack->top == MAX_SIZE - 1) {\n",
        "        printf(\"Stack overflow\\n\");\n",
        "        return;\n",
        "    }\n",
        "    strcpy(stack->data[++stack->top], item);\n",
        "}\n",
        "\n",
        "char* pop(Stack *stack) {\n",
        "    if (isEmpty(stack)) {\n",
        "        printf(\"Stack underflow\\n\");\n",
        "        exit(1);\n",
        "    }\n",
        "    return stack->data[stack->top--];\n",
        "}\n",
        "\n",
        "bool isOperator(char x) {\n",
        "    return x == '+' || x == '-' || x == '*' || x == '/' || x == '^';\n",
        "}\n",
        "\n",
        "void reverse(char str[], int length) {\n",
        "    int start = 0;\n",
        "    int end = length - 1;\n",
        "    while (start < end) {\n",
        "        char temp = str[start];\n",
        "        str[start] = str[end];\n",
        "        str[end] = temp;\n",
        "        start++;\n",
        "        end--;\n",
        "    }\n",
        "}\n",
        "\n",
        "void prefixToPostfix(char *prefix, char *postfix) {\n",
        "    Stack stack;\n",
        "    init(&stack);\n",
        "    int length = strlen(prefix);\n",
        "    reverse(prefix, length);\n",
        "\n",
        "    char temp[2] = \"\";\n",
        "    for (int i = 0; i < length; i++) {\n",
        "        if (isOperator(prefix[i])) {\n",
        "            char* op1 = pop(&stack);\n",
        "            char* op2 = pop(&stack);\n",
        "            char temp[MAX_SIZE] = \"\";\n",
        "            strcat(temp, op1);\n",
        "            strcat(temp, op2);\n",
        "            temp[strlen(temp)] = prefix[i];\n",
        "            push(&stack, temp);\n",
        "        } else if(isalnum(prefix[i])) {\n",
        "            temp[0] = prefix[i];\n",
        "            temp[1] = '\\0';\n",
        "            push(&stack, temp);\n",
        "        }\n",
        "    }\n",
        "    strcpy(postfix, pop(&stack));\n",
        "}\n",
        "\n",
        "int main() {\n",
        "    char prefix[MAX_SIZE];\n",
        "    char postfix[MAX_SIZE] = \"\";\n",
        "\n",
        "    printf(\"Enter the prefix expression: \");\n",
        "    scanf(\"%s\", prefix);\n",
        "\n",
        "    prefixToPostfix(prefix, postfix);\n",
        "\n",
        "    printf(\"Postfix expression: %s\\n\", postfix);\n",
        "    return 0;\n",
        "}\n"
      ],
      "metadata": {
        "id": "VdFTGWTvITAV"
      },
      "execution_count": null,
      "outputs": []
    },
    {
      "cell_type": "markdown",
      "source": [
        "You are given a 2D matrix of integer values. lmagine that you have a robot that you initially put in the cellwith coordinates ( cellx , celly ) of the matrix . The robot follows the following protocols:\n",
        "It sums all of the cell values on its way; Moves diagonally on each move, starting in the direction (+1, +1) . lt means that starting at a cell withcoordinates (x, y) , the robot will move to the cell with coordinates (x + 1, y + 1) unless the newcell is outside the matrix ;lf it reaches a cell that was visited earlier or a corner of the matrix , it stops;\n",
        "The value of the endpoint is NOT counted twice,\n",
        "lf during the current move the robot would cross the matrix edge, the robot should reverse the directionthat was leading it out. (e.g., if the x coordinate is outside the matrix , reverse in the x movementdirection);\n",
        "\n",
        "Your task is to find and return the sum achieved by the robot using the protocols mentioned above."
      ],
      "metadata": {
        "id": "XjXUDvmWIUIU"
      }
    },
    {
      "cell_type": "code",
      "source": [
        "#include <stdio.h>\n",
        "#include <stdbool.h>\n",
        "\n",
        "int robot_sum(int matrix[3][3], int cellx, int celly, int max_x, int max_y) {\n",
        "    int dir_x = 1, dir_y = 1;\n",
        "    bool visited[max_x][max_y];\n",
        "\n",
        "    for (int i = 0; i < max_x; i++)\n",
        "        for (int j = 0; j < max_y; j++)\n",
        "            visited[i][j] = false;\n",
        "\n",
        "    int total_sum = 0;\n",
        "    while (!visited[cellx][celly] && !(cellx == 0 || cellx == max_x-1) && !(celly == 0 || celly == max_y-1)) {\n",
        "        visited[cellx][celly] = true;\n",
        "        total_sum += matrix[cellx][celly];\n",
        "\n",
        "        int next_x = cellx + dir_x;\n",
        "        int next_y = celly + dir_y;\n",
        "\n",
        "        if (next_x < 0 || next_x >= max_x)\n",
        "            dir_x = -dir_x;\n",
        "        if (next_y < 0 || next_y >= max_y)\n",
        "            dir_y = -dir_y;\n",
        "\n",
        "        cellx += dir_x;\n",
        "        celly += dir_y;\n",
        "    }\n",
        "\n",
        "    if (!visited[cellx][celly])\n",
        "        total_sum += matrix[cellx][celly];\n",
        "\n",
        "    return total_sum;\n",
        "}\n",
        "\n",
        "int main() {\n",
        "    int matrix[3][3] = {\n",
        "        {1, 2, 3},\n",
        "        {4, 5, 6},\n",
        "        {7, 8, 9}\n",
        "    };\n",
        "    int start_x = 0, start_y = 0;\n",
        "    printf(\"%d\\n\", robot_sum(matrix, start_x, start_y, 3, 3));  // Expected result: 28\n",
        "    return 0;\n",
        "}\n"
      ],
      "metadata": {
        "id": "LIv7wdo9ITf3"
      },
      "execution_count": null,
      "outputs": []
    },
    {
      "cell_type": "markdown",
      "source": [
        "A user is uploading a big file to your server. The upload is done by sending filechunks of consecutive byte ranges, and the byte ranges for all chunks arerepresented as a tw5-dimensional array chunks . For each chunk chunks[i]the byte range is stored in an array of two 64-bit integers: chunks [i] [o] is theindex of the leftmost byte in the ith chunk, and chunks [i] [1] is the index ofthe rightmost byte in the ‍‌‍‍‌‍‍‍‍‌‍‍‌‌‌‌‌‍‌‌ith chunk (both indices are inclusive, 1-based).\n",
        "\n",
        "Your task is to determine the total number of bytes (of the overall file) receivedafter each file chunk is received. Note that chunks may intersect or even fullyreplicate the previous ones - i.e., sending the same data twice"
      ],
      "metadata": {
        "id": "RGKzqQmLIcmu"
      }
    },
    {
      "cell_type": "code",
      "source": [
        "#include <stdio.h>\n",
        "#include <stdint.h>\n",
        "#include <stdbool.h>\n",
        "\n",
        "#define MAX_CHUNKS 1000\n",
        "#define MAX_FILE_SIZE 1000000\n",
        "\n",
        "bool receivedBytes[MAX_FILE_SIZE] = {false};\n",
        "\n",
        "int main() {\n",
        "    int64_t chunks[MAX_CHUNKS][2];\n",
        "    int n; // number of chunks\n",
        "\n",
        "    printf(\"Enter the number of chunks: \");\n",
        "    scanf(\"%d\", &n);\n",
        "\n",
        "    for (int i = 0; i < n; i++) {\n",
        "        scanf(\"%lld %lld\", &chunks[i][0], &chunks[i][1]);\n",
        "    }\n",
        "\n",
        "    int64_t totalBytesReceived = 0;\n",
        "\n",
        "    for (int i = 0; i < n; i++) {\n",
        "        for (int64_t j = chunks[i][0]-1; j <= chunks[i][1]-1; j++) {\n",
        "            if (!receivedBytes[j]) {\n",
        "                receivedBytes[j] = true;\n",
        "                totalBytesReceived++;\n",
        "            }\n",
        "        }\n",
        "        printf(\"After chunk %d, total bytes received: %lld\\n\", i+1, totalBytesReceived);\n",
        "    }\n",
        "    return 0;\n",
        "}\n"
      ],
      "metadata": {
        "id": "3UKfjOFkIdPP"
      },
      "execution_count": null,
      "outputs": []
    }
  ]
}